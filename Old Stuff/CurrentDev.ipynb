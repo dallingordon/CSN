{
 "cells": [
  {
   "cell_type": "code",
   "execution_count": 1,
   "id": "ff2ef328",
   "metadata": {},
   "outputs": [],
   "source": [
    "from csn4 import SineWaveLayer,SelectorWaveLayer, SineWaveNetwork"
   ]
  },
  {
   "cell_type": "code",
   "execution_count": 2,
   "id": "f6652a7f",
   "metadata": {},
   "outputs": [],
   "source": [
    "import torch"
   ]
  },
  {
   "cell_type": "code",
   "execution_count": 3,
   "id": "8ecc29eb",
   "metadata": {},
   "outputs": [],
   "source": [
    "s = SineWaveNetwork()"
   ]
  },
  {
   "cell_type": "code",
   "execution_count": 4,
   "id": "9fc60758",
   "metadata": {},
   "outputs": [
    {
     "data": {
      "text/plain": [
       "SineWaveNetwork(\n",
       "  (sine_layer): SineWaveLayer()\n",
       "  (selector_layer1): SelectorWaveLayer()\n",
       "  (selector_layer2): SelectorWaveLayer()\n",
       "  (selector_layer3): SelectorWaveLayer()\n",
       ")"
      ]
     },
     "execution_count": 4,
     "metadata": {},
     "output_type": "execute_result"
    }
   ],
   "source": [
    "s"
   ]
  },
  {
   "cell_type": "code",
   "execution_count": 5,
   "id": "d5f2d63a",
   "metadata": {},
   "outputs": [
    {
     "data": {
      "text/plain": [
       "tensor([[674.5701,  96.9694,  -3.4374,  -9.3394, -25.0633, -41.4844, -42.6277,\n",
       "         -18.9063]], grad_fn=<ViewBackward0>)"
      ]
     },
     "execution_count": 5,
     "metadata": {},
     "output_type": "execute_result"
    }
   ],
   "source": [
    "s(torch.tensor([1,2,3,4,5,6,7,8]))"
   ]
  },
  {
   "cell_type": "code",
   "execution_count": 12,
   "id": "2d61ec57",
   "metadata": {},
   "outputs": [],
   "source": [
    "def sample_arrays(target, learned, x):\n",
    "    indices = np.random.choice(len(target), size=x, replace=False)\n",
    "    sampled_target = target[indices]\n",
    "    sampled_learned = learned[indices]\n",
    "    return sampled_target, sampled_learned\n",
    "\n",
    "def loss_function_aa(target, learned):\n",
    "    #target, learned = sample_arrays(target, learned, 100)\n",
    "    prod = learned.detach().numpy() * target.detach().numpy()\n",
    "    return np.average(prod)"
   ]
  },
  {
   "cell_type": "code",
   "execution_count": 13,
   "id": "1170856f",
   "metadata": {},
   "outputs": [
    {
     "data": {
      "image/png": "[encoded data removed]",
      "text/plain": [
       "<Figure size 720x432 with 1 Axes>"
      ]
     },
     "metadata": {
      "needs_background": "light"
     },
     "output_type": "display_data"
    },
    {
     "data": {
      "image/png": "[encoded data removed]",
      "text/plain": [
       "<Figure size 432x288 with 1 Axes>"
      ]
     },
     "metadata": {
      "needs_background": "light"
     },
     "output_type": "display_data"
    }
   ],
   "source": [
    "import torch\n",
    "import torch.nn as nn\n",
    "import numpy as np\n",
    "import matplotlib.pyplot as plt\n",
    "from csn4 import SineWaveLayer, SelectorWaveLayer\n",
    "\n",
    "class TargetFunction(nn.Module):\n",
    "    def __init__(self, sine_wave_params, selector_wave_params):\n",
    "        super(TargetFunction, self).__init__()\n",
    "        \n",
    "        self.sine_wave_layer = SineWaveLayer(n=2, phi_prev=False, w_prev=False)\n",
    "        self.selector_wave_layer = SelectorWaveLayer(n=2, m=1, phi_prev=True, w_prev=True)\n",
    "        \n",
    "        # Freeze the parameters\n",
    "        self.freeze_parameters(sine_wave_params, selector_wave_params)\n",
    "    \n",
    "    def freeze_parameters(self, sine_wave_params, selector_wave_params):\n",
    "        # Freeze SineWaveLayer parameters\n",
    "        with torch.no_grad():\n",
    "            self.sine_wave_layer.A.copy_(torch.tensor(sine_wave_params['A'], dtype=torch.float32))\n",
    "            self.sine_wave_layer.w.copy_(torch.tensor(sine_wave_params['w'], dtype=torch.float32))\n",
    "            self.sine_wave_layer.phi.copy_(torch.tensor(sine_wave_params['phi'], dtype=torch.float32))\n",
    "            self.sine_wave_layer.phi_current.copy_(torch.tensor(sine_wave_params['phi_current'], dtype=torch.float32))\n",
    "            self.sine_wave_layer.current_w.copy_(torch.tensor(sine_wave_params['current_w'], dtype=torch.float32))\n",
    "            if self.sine_wave_layer.phi_prev:\n",
    "                self.sine_wave_layer.phi_previous.copy_(torch.tensor(sine_wave_params['phi_previous'], dtype=torch.float32))\n",
    "            if self.sine_wave_layer.w_prev:\n",
    "                self.sine_wave_layer.previous_w.copy_(torch.tensor(sine_wave_params['w_previous'], dtype=torch.float32))\n",
    "\n",
    "        # Freeze SelectorWaveLayer parameters\n",
    "        with torch.no_grad():\n",
    "            self.selector_wave_layer.a.copy_(torch.tensor(selector_wave_params['a'], dtype=torch.float32))\n",
    "            self.selector_wave_layer.w.copy_(torch.tensor(selector_wave_params['w'], dtype=torch.float32))\n",
    "            self.selector_wave_layer.phi.copy_(torch.tensor(selector_wave_params['phi'], dtype=torch.float32))\n",
    "            self.selector_wave_layer.phi_current.copy_(torch.tensor(selector_wave_params['phi_current'], dtype=torch.float32))\n",
    "            self.selector_wave_layer.current_w.copy_(torch.tensor(selector_wave_params['current_w'], dtype=torch.float32))\n",
    "            if self.selector_wave_layer.phi_prev:\n",
    "                self.selector_wave_layer.phi_previous.copy_(torch.tensor(selector_wave_params['phi_previous'], dtype=torch.float32))\n",
    "            if self.selector_wave_layer.w_prev:\n",
    "                self.selector_wave_layer.previous_w.copy_(torch.tensor(selector_wave_params['w_previous'], dtype=torch.float32))\n",
    "\n",
    "        for param in self.sine_wave_layer.parameters():\n",
    "            param.requires_grad = False\n",
    "        for param in self.selector_wave_layer.parameters():\n",
    "            param.requires_grad = False\n",
    "\n",
    "    def forward(self, t_vector, phi_previous=None, w_previous=None):\n",
    "        sine_output, phi, w = self.sine_wave_layer(t_vector, phi_previous, w_previous)\n",
    "        selector_output, _, _ = self.selector_wave_layer(t_vector, sine_output, phi, w)\n",
    "        return selector_output\n",
    "\n",
    "class LearnedFunction(nn.Module):\n",
    "    def __init__(self, sine_wave_params, selector_wave_params):\n",
    "        super(LearnedFunction, self).__init__()\n",
    "        \n",
    "        self.sine_wave_layer = SineWaveLayer(n=2, phi_prev=False, w_prev=False)\n",
    "        self.selector_wave_layer = SelectorWaveLayer(n=2, m=1, phi_prev=True, w_prev=True)\n",
    "        \n",
    "        # Initialize the parameters\n",
    "        self.initialize_parameters(sine_wave_params, selector_wave_params)\n",
    "    \n",
    "    def initialize_parameters(self, sine_wave_params, selector_wave_params):\n",
    "        # Initialize SineWaveLayer parameters\n",
    "        with torch.no_grad():\n",
    "            self.sine_wave_layer.A.copy_(torch.tensor(sine_wave_params['A'], dtype=torch.float32))\n",
    "            self.sine_wave_layer.w.copy_(torch.tensor(sine_wave_params['w'], dtype=torch.float32))\n",
    "            self.sine_wave_layer.phi.copy_(torch.tensor(sine_wave_params['phi'], dtype=torch.float32))\n",
    "            self.sine_wave_layer.phi_current.copy_(torch.tensor(sine_wave_params['phi_current'], dtype=torch.float32))\n",
    "            self.sine_wave_layer.current_w.copy_(torch.tensor(sine_wave_params['current_w'], dtype=torch.float32))\n",
    "            if self.sine_wave_layer.phi_prev:\n",
    "                self.sine_wave_layer.phi_previous.copy_(torch.tensor(sine_wave_params['phi_previous'], dtype=torch.float32))\n",
    "            if self.sine_wave_layer.w_prev:\n",
    "                self.sine_wave_layer.previous_w.copy_(torch.tensor(sine_wave_params['w_previous'], dtype=torch.float32))\n",
    "\n",
    "        # Initialize SelectorWaveLayer parameters\n",
    "        with torch.no_grad():\n",
    "            self.selector_wave_layer.a.copy_(torch.tensor(selector_wave_params['a'], dtype=torch.float32))\n",
    "            self.selector_wave_layer.w.copy_(torch.tensor(selector_wave_params['w'], dtype=torch.float32))\n",
    "            self.selector_wave_layer.phi.copy_(torch.tensor(selector_wave_params['phi'], dtype=torch.float32))\n",
    "            self.selector_wave_layer.phi_current.copy_(torch.tensor(selector_wave_params['phi_current'], dtype=torch.float32))\n",
    "            self.selector_wave_layer.current_w.copy_(torch.tensor(selector_wave_params['current_w'], dtype=torch.float32))\n",
    "            if self.selector_wave_layer.phi_prev:\n",
    "                self.selector_wave_layer.phi_previous.copy_(torch.tensor(selector_wave_params['phi_previous'], dtype=torch.float32))\n",
    "            if self.selector_wave_layer.w_prev:\n",
    "                self.selector_wave_layer.previous_w.copy_(torch.tensor(selector_wave_params['w_previous'], dtype=torch.float32))\n",
    "\n",
    "    def forward(self, t_vector, phi_previous=None, w_previous=None):\n",
    "        sine_output, phi, w = self.sine_wave_layer(t_vector, phi_previous, w_previous)\n",
    "        selector_output, _, _ = self.selector_wave_layer(t_vector, sine_output, phi, w)\n",
    "        return selector_output\n",
    "\n",
    "def adjust_parameter_and_plot_loss(target_function, learned_function, param_name, param_range, num_samples, t_sample_size, index = None):\n",
    "    loss_function = loss_function_aa ##nn.MSELoss()\n",
    "    losses = []\n",
    "\n",
    "    t_vector = torch.linspace(1, 10, 1000).unsqueeze(0).type(torch.float32)\n",
    "    t_sample_indices = torch.randperm(t_vector.size(1))[:t_sample_size]\n",
    "    t_sample = t_vector[:, t_sample_indices]\n",
    "\n",
    "    target_output = target_function(t_sample)\n",
    "\n",
    "    for param_value in param_range:\n",
    "        with torch.no_grad():\n",
    "            \n",
    "            if index == 0:\n",
    "                param_value_tensor = torch.tensor([[param_value], [0.1]], dtype=torch.float32) #this shouldn't be fixed, but, hey\n",
    "            if index == 1:\n",
    "                param_value_tensor = torch.tensor([[0.1], [param_value]], dtype=torch.float32)\n",
    "            if param_name == 'A':\n",
    "                learned_function.sine_wave_layer.A.copy_(param_value_tensor)\n",
    "            elif param_name == 'w':\n",
    "                learned_function.sine_wave_layer.w.copy_(param_value_tensor)\n",
    "            elif param_name == 'phi':\n",
    "                learned_function.sine_wave_layer.phi.copy_(param_value_tensor)\n",
    "            elif param_name == 'phi_current':\n",
    "                learned_function.sine_wave_layer.phi_current.copy_(torch.tensor([param_value], dtype=torch.float32))\n",
    "            elif param_name == 'current_w':\n",
    "                learned_function.sine_wave_layer.current_w.copy_(torch.tensor([param_value], dtype=torch.float32))\n",
    "            elif param_name == 'a':\n",
    "                learned_function.selector_wave_layer.a.copy_(torch.tensor([[param_value, param_value]], dtype=torch.float32))\n",
    "            elif param_name == 'selector_w':\n",
    "                learned_function.selector_wave_layer.w.copy_(torch.tensor([[param_value, param_value]], dtype=torch.float32))\n",
    "            elif param_name == 'selector_phi':\n",
    "                learned_function.selector_wave_layer.phi.copy_(torch.tensor([[param_value, param_value]], dtype=torch.float32))\n",
    "            elif param_name == 'selector_phi_current':\n",
    "                learned_function.selector_wave_layer.phi_current.copy_(torch.tensor([param_value], dtype=torch.float32))\n",
    "            elif param_name == 'selector_current_w':\n",
    "                learned_function.selector_wave_layer.current_w.copy_(torch.tensor([param_value], dtype=torch.float32))\n",
    "            \n",
    "        learned_output = learned_function(t_sample)\n",
    "        loss = loss_function(learned_output, target_output)\n",
    "        losses.append(loss.item())\n",
    "\n",
    "    plt.plot(param_range, losses)\n",
    "    plt.xlabel(param_name)\n",
    "    plt.ylabel('Loss')\n",
    "    plt.title(f'Loss vs {param_name}')\n",
    "    plt.show()\n",
    "\n",
    "# Define the parameters for the layers\n",
    "sine_wave_params = {\n",
    "    'phi_prev': False,\n",
    "    'w_prev': False,\n",
    "    'A': [[1.0], [1.0]], # Example values\n",
    "    'w': [[0.1], [0.1]], # Example values\n",
    "    'phi': [[0.0], [0.0]], # Example values\n",
    "    'phi_current': [0.0],\n",
    "    'current_w': [0.1],\n",
    "    'phi_previous': None,\n",
    "    'w_previous': None\n",
    "}\n",
    "\n",
    "selector_wave_params = {\n",
    "    'phi_prev': True,\n",
    "    'w_prev': True,\n",
    "    'a': [[1.0, 1.0]], # Example values\n",
    "    'w': [[0.1, 0.1]], # Example values\n",
    "    'phi': [[0.0, 0.0]], # Example values\n",
    "    'phi_current': [0.0],\n",
    "    'current_w': [0.1],\n",
    "    'phi_previous': [0.0],\n",
    "    'w_previous': [0.1]\n",
    "}\n",
    "\n",
    "# Initialize target and learned functions\n",
    "target_function = TargetFunction(sine_wave_params, selector_wave_params)\n",
    "learned_function = LearnedFunction(sine_wave_params, selector_wave_params)\n",
    "\n",
    "# Define the parameter range and the number of samples\n",
    "param_name = 'selector_current_w'  # Choose the parameter to vary\n",
    "index = 1\n",
    "param_range = np.linspace(0.0, 200.0, 1000)  # Example range for the parameter\n",
    "num_samples = 100  # Number of samples for t\n",
    "\n",
    "# Plot the loss vs parameter value\n",
    "\n",
    "# Generate t_vector for plotting\n",
    "t_vector = torch.linspace(1, 1, 1000).unsqueeze(0).type(torch.float32)\n",
    "\n",
    "# Get the outputs from both functions\n",
    "target_output = target_function(t_vector).detach().numpy().flatten()\n",
    "learned_output = learned_function(t_vector).detach().numpy().flatten()\n",
    "t_np = t_vector.numpy().flatten()\n",
    "\n",
    "# Plot the results\n",
    "plt.figure(figsize=(10, 6))\n",
    "plt.plot(t_np, target_output, label='Target Function', color='blue')\n",
    "plt.plot(t_np, learned_output, label='Learned Function', color='red', linestyle='--')\n",
    "plt.xlabel('t')\n",
    "plt.ylabel('Output')\n",
    "plt.title('Target Function vs Learned Function')\n",
    "plt.legend()\n",
    "plt.show()\n",
    "\n",
    "adjust_parameter_and_plot_loss(target_function, learned_function, param_name, param_range, num_samples, num_samples, index)\n"
   ]
  },
  {
   "cell_type": "code",
   "execution_count": null,
   "id": "f5cba9c9",
   "metadata": {},
   "outputs": [],
   "source": []
  }
 ],
 "metadata": {
  "kernelspec": {
   "display_name": "Python 3 (ipykernel)",
   "language": "python",
   "name": "python3"
  },
  "language_info": {
   "codemirror_mode": {
    "name": "ipython",
    "version": 3
   },
   "file_extension": ".py",
   "mimetype": "text/x-python",
   "name": "python",
   "nbconvert_exporter": "python",
   "pygments_lexer": "ipython3",
   "version": "3.9.12"
  }
 },
 "nbformat": 4,
 "nbformat_minor": 5
}
