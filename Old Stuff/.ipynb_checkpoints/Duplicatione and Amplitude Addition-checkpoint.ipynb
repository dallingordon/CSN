{
 "cells": [
  {
   "cell_type": "code",
   "execution_count": 1,
   "id": "e9f8c725",
   "metadata": {},
   "outputs": [],
   "source": [
    "import torch\n",
    "import torch.nn as nn\n",
    "import numpy as np\n",
    "import matplotlib.pyplot as plt"
   ]
  },
  {
   "cell_type": "code",
   "execution_count": 2,
   "id": "eeffe2ee",
   "metadata": {},
   "outputs": [],
   "source": [
    "class DoubleDutchLayer(nn.Module):\n",
    "    def __init__(self, sampling_rate, denominator, input_dim, duplications = 0):\n",
    "        \"\"\"\n",
    "        This only passes activations forward, \n",
    "        this is my attempt at making an activation that can always on, always off, and any rhythm between\n",
    "        no not any,  but any time it is on it activates higher frequecies, and those an learn all that. bla bla emergence\n",
    "    \n",
    "        use ddnet4 to start.  \n",
    "        also, use the nyquist freq denom 2 layer with activations coeffs to get amplitude. sum them\n",
    "        \"\"\"\n",
    "        super(DoubleDutchLayer, self).__init__()\n",
    "        self.sampling_rate = sampling_rate\n",
    "        self.denominator = denominator\n",
    "        self.frequency = sampling_rate / denominator\n",
    "        self.duplications = duplications\n",
    "        self.input_dim = input_dim\n",
    "        self.pre_sigmoid_add = nn.Parameter(torch.randn(input_dim * 2 * duplications))\n",
    "        self.pre_sigmoid_mult = nn.Parameter(torch.randn(input_dim * 2 * duplications))\n",
    "        self.amplitudes = nn.Parameter(torch.randn(input_dim * 2 * duplications))\n",
    "        \n",
    "    \n",
    "    def forward(self, t,input_activations, input_amplitudes ):\n",
    "\n",
    "        sine_wave_1 =  torch.sin(2 * np.pi * self.frequency * t / sampling_rate - np.pi / 2) \n",
    "        sine_wave_2 =  torch.sin(2 * np.pi * self.frequency * t / sampling_rate + np.pi / 2) \n",
    "        sine_waves = torch.cat((sine_wave_1, sine_wave_2), dim=1)\n",
    "        sine_waves = sine_waves.repeat(1, self.duplications * self.input_dim)\n",
    "        sine_waves = self.pre_sigmoid_mult * sine_waves + self.pre_sigmoid_add\n",
    "        \n",
    "        input_activations = input_activations.repeat(1,2 * self.duplications)\n",
    "        input_amplitudes = input_amplitudes.repeat(1,2 * self.duplications)\n",
    "        \n",
    "        print(input_activations.shape, sine_waves.shape)\n",
    "        activations = input_activations *  torch.sigmoid(sine_waves)\n",
    "        amplitudes = activations + input_amplitudes\n",
    "        \n",
    "        \n",
    "\n",
    "        return activations, amplitudes\n",
    "    \n",
    "\n",
    "class DoubleDutchNetwork(nn.Module):\n",
    "    def __init__(self, sampling_rate,denominators,duplicates):\n",
    "        super(DoubleDutchNetwork, self).__init__()\n",
    "        self.layers = nn.ModuleList()\n",
    "        self.sampling_rate = sampling_rate\n",
    "        initial_input = 1  # Starting input dimension\n",
    "        first_item = [initial_input]\n",
    "\n",
    "        input_dimensions = [initial_input := (initial_input * 2 * dup) for dup in duplicates[:-1]]\n",
    "        input_dimensions = first_item + input_dimensions\n",
    "\n",
    "        assert len(denominators) == len(duplicates) == len(input_dimensions)\n",
    "        \n",
    "        for i in range(len(denominators)):\n",
    "        #print(denominators[i],duplicates[i],input_dimensions[i])\n",
    "    \n",
    "            layer = DoubleDutchLayer(sampling_rate, denominators[i], input_dimensions[i],duplicates[i] )\n",
    "            self.layers.append(layer)\n",
    "        \n",
    "        \n",
    "    def forward(self, t):\n",
    "        input_activation = torch.ones_like(t)\n",
    "        input_amplitudes = torch.zeros_like(t)\n",
    "        \n",
    "        for layer in self.layers:\n",
    "            #print(current_activation.shape)\n",
    "            input_activation,input_amplitudes = layer(t, input_activation,input_amplitudes)\n",
    "            \n",
    "        \n",
    "        \n",
    "        return torch.sum(input_amplitudes,dim=1).unsqueeze(1)"
   ]
  },
  {
   "cell_type": "code",
   "execution_count": 3,
   "id": "372c8323",
   "metadata": {},
   "outputs": [],
   "source": [
    "class DoubleDutchLayerCond(nn.Module):\n",
    "    def __init__(self, sampling_rate, denominator, input_dim, duplications = 0, output_coeff=False):\n",
    "        \"\"\"\n",
    "        This only passes activations forward, \n",
    "        this is my attempt at making an activation that can always on, always off, and any rhythm between\n",
    "        no not any,  but any time it is on it activates higher frequecies, and those an learn all that. bla bla emergence\n",
    "    \n",
    "        use ddnet4 to start.  \n",
    "        also, use the nyquist freq denom 2 layer with activations coeffs to get amplitude. sum them\n",
    "        \"\"\"\n",
    "        super(DoubleDutchLayerCond, self).__init__()\n",
    "        self.sampling_rate = sampling_rate\n",
    "        self.denominator = denominator\n",
    "        self.frequency = sampling_rate / denominator\n",
    "        self.duplications = duplications\n",
    "        self.input_dim = input_dim\n",
    "        self.pre_sigmoid_add = nn.Parameter(torch.randn(input_dim * 2 * duplications))\n",
    "        self.pre_sigmoid_mult = nn.Parameter(torch.randn(input_dim * 2 * duplications))\n",
    "        self.output_coeff = output_coeff\n",
    "        if self.output_coeff:\n",
    "            self.amplitudes = nn.Parameter(torch.randn(input_dim * 2 * duplications))\n",
    "        \n",
    "    \n",
    "    def forward(self, t,input_activations ):\n",
    "\n",
    "        sine_wave_1 =  torch.sin(2 * np.pi * self.frequency * t / sampling_rate - np.pi / 2) \n",
    "        sine_wave_2 =  torch.sin(2 * np.pi * self.frequency * t / sampling_rate + np.pi / 2) \n",
    "        sine_waves = torch.cat((sine_wave_1, sine_wave_2), dim=1)\n",
    "        sine_waves = sine_waves.repeat(1, self.duplications * self.input_dim)\n",
    "        sine_waves = self.pre_sigmoid_mult * sine_waves + self.pre_sigmoid_add\n",
    "        \n",
    "        input_activations = input_activations.repeat(1,2 * self.duplications)\n",
    "        activations = input_activations *  torch.sigmoid(sine_waves)\n",
    "        \n",
    "        if self.output_coeff:\n",
    "            \n",
    "            amplitudes = activations * self.amplitudes\n",
    "            return amplitudes\n",
    "        \n",
    "\n",
    "        return activations\n",
    "    \n",
    "\n",
    "class DoubleDutchNetworkCond(nn.Module):\n",
    "    def __init__(self, sampling_rate,denominators,duplicates):\n",
    "        super(DoubleDutchNetworkCond, self).__init__()\n",
    "        self.layers = nn.ModuleList()\n",
    "        self.sampling_rate = sampling_rate\n",
    "        initial_input = 1  # Starting input dimension\n",
    "        first_item = [initial_input]\n",
    "\n",
    "        input_dimensions = [initial_input := (initial_input * 2 * dup) for dup in duplicates[:-1]]\n",
    "        input_dimensions = first_item + input_dimensions\n",
    "\n",
    "        assert len(denominators) == len(duplicates) == len(input_dimensions)\n",
    "        \n",
    "        for i in range(len(denominators)):\n",
    "        #print(denominators[i],duplicates[i],input_dimensions[i])\n",
    "            if i == len(denominators)-1:\n",
    "                layer = DoubleDutchLayerCond(sampling_rate, denominators[i], input_dimensions[i],duplicates[i], True)\n",
    "            else:\n",
    "                layer = DoubleDutchLayerCond(sampling_rate, denominators[i], input_dimensions[i],duplicates[i], False)\n",
    "            \n",
    "            self.layers.append(layer)\n",
    "        \n",
    "        \n",
    "    def forward(self, t):\n",
    "        layer_output = torch.ones_like(t)\n",
    "        \n",
    "        for layer in self.layers:\n",
    "            #print(current_activation.shape)\n",
    "            layer_output = layer(t, layer_output)\n",
    "            \n",
    "        \n",
    "        \n",
    "        return torch.sum(layer_output,dim=1).unsqueeze(1)"
   ]
  },
  {
   "cell_type": "code",
   "execution_count": 4,
   "id": "0abbc499",
   "metadata": {},
   "outputs": [],
   "source": [
    "L = 5\n",
    "sampling_rate = 1000\n",
    "t = torch.tensor([[1],[2],[3],[4],[5],[6]]).float()\n",
    "input_activation = torch.ones_like(t)\n",
    "input_amplitudes = torch.zeros_like(t)\n",
    "denominator = 4\n",
    "dd = DoubleDutchLayerCond(sampling_rate, denominator, input_activation.shape[1], duplications = 5,output_coeff = False)\n",
    "dd2 = DoubleDutchLayerCond(sampling_rate, 2, 10, duplications = 3,output_coeff=True)"
   ]
  },
  {
   "cell_type": "code",
   "execution_count": 5,
   "id": "e17d62a1",
   "metadata": {},
   "outputs": [],
   "source": [
    "act = dd(t,input_activation)\n",
    "act2 = dd2(t,act)"
   ]
  },
  {
   "cell_type": "code",
   "execution_count": 6,
   "id": "3e1c24a7",
   "metadata": {},
   "outputs": [
    {
     "data": {
      "text/plain": [
       "torch.Size([6, 60])"
      ]
     },
     "execution_count": 6,
     "metadata": {},
     "output_type": "execute_result"
    }
   ],
   "source": [
    "act2.shape"
   ]
  },
  {
   "cell_type": "code",
   "execution_count": 7,
   "id": "b87a0a69",
   "metadata": {},
   "outputs": [],
   "source": [
    "t_dup = t.repeat(1, 1)\n",
    "t_dup_again = t_dup.repeat(1,3)"
   ]
  },
  {
   "cell_type": "code",
   "execution_count": 8,
   "id": "3ad33558",
   "metadata": {},
   "outputs": [
    {
     "data": {
      "text/plain": [
       "(tensor([[1.],\n",
       "         [2.],\n",
       "         [3.],\n",
       "         [4.],\n",
       "         [5.],\n",
       "         [6.]]),\n",
       " tensor([[1.],\n",
       "         [2.],\n",
       "         [3.],\n",
       "         [4.],\n",
       "         [5.],\n",
       "         [6.]]),\n",
       " tensor([[1., 1., 1.],\n",
       "         [2., 2., 2.],\n",
       "         [3., 3., 3.],\n",
       "         [4., 4., 4.],\n",
       "         [5., 5., 5.],\n",
       "         [6., 6., 6.]]))"
      ]
     },
     "execution_count": 8,
     "metadata": {},
     "output_type": "execute_result"
    }
   ],
   "source": [
    "t,t_dup, t_dup_again"
   ]
  },
  {
   "cell_type": "code",
   "execution_count": 9,
   "id": "9732353d",
   "metadata": {},
   "outputs": [
    {
     "data": {
      "text/plain": [
       "10"
      ]
     },
     "execution_count": 9,
     "metadata": {},
     "output_type": "execute_result"
    }
   ],
   "source": [
    "input_dim = 1\n",
    "duplications = 5\n",
    "input_dim * 2 * 5"
   ]
  },
  {
   "cell_type": "code",
   "execution_count": 10,
   "id": "d32dc6d2",
   "metadata": {},
   "outputs": [
    {
     "name": "stdout",
     "output_type": "stream",
     "text": [
      "[1, 10]\n",
      "4 5 1\n",
      "2 3 10\n"
     ]
    }
   ],
   "source": [
    "denominators = [4,2]\n",
    "duplicates = [5,3]\n",
    "initial_input = 1  # Starting input dimension\n",
    "first_item = [initial_input]\n",
    "# List comprehension to calculate the input dimensions\n",
    "input_dimensions = [initial_input := (initial_input * 2 * dup) for dup in duplicates[:-1]]\n",
    "input_dimensions = first_item + input_dimensions\n",
    "print(input_dimensions)\n",
    "assert len(denominators) == len(duplicates) == len(input_dimensions)\n",
    "layers = nn.ModuleList()\n",
    "for i in range(len(denominators)):\n",
    "    print(denominators[i],duplicates[i],input_dimensions[i])\n",
    "    \n",
    "    layer = DoubleDutchLayer(sampling_rate, denominators[i], input_activation.shape[1], duplications = 5)\n",
    "    layers.append(layer)"
   ]
  },
  {
   "cell_type": "code",
   "execution_count": 11,
   "id": "836ed5f9",
   "metadata": {},
   "outputs": [
    {
     "name": "stdout",
     "output_type": "stream",
     "text": [
      "[1, 10]\n"
     ]
    }
   ],
   "source": [
    "growth_numbers = [5, 3]  # Example growth numbers\n",
    "initial_input = 1  # Starting input dimension\n",
    "first_item = [initial_input]\n",
    "# List comprehension to calculate the input dimensions\n",
    "input_dimensions = [initial_input := (initial_input * 2 * growth) for growth in growth_numbers[:-1]]\n",
    "input_dimensions = first_item + input_dimensions\n",
    "print(input_dimensions)\n"
   ]
  },
  {
   "cell_type": "code",
   "execution_count": 12,
   "id": "b3543b87",
   "metadata": {},
   "outputs": [],
   "source": [
    "D = DoubleDutchNetworkCond(sampling_rate = 441000,denominators = [16,8,4,2],duplicates = [2,2,2,2])"
   ]
  },
  {
   "cell_type": "code",
   "execution_count": 13,
   "id": "c32958e1",
   "metadata": {},
   "outputs": [
    {
     "data": {
      "text/plain": [
       "tensor([[22.4854],\n",
       "        [23.3039],\n",
       "        [21.6423],\n",
       "        [23.2130],\n",
       "        [22.5248],\n",
       "        [22.4288]], grad_fn=<UnsqueezeBackward0>)"
      ]
     },
     "execution_count": 13,
     "metadata": {},
     "output_type": "execute_result"
    }
   ],
   "source": [
    "D(t)"
   ]
  },
  {
   "cell_type": "code",
   "execution_count": null,
   "id": "0548a26e",
   "metadata": {},
   "outputs": [],
   "source": []
  }
 ],
 "metadata": {
  "kernelspec": {
   "display_name": "Python 3 (ipykernel)",
   "language": "python",
   "name": "python3"
  },
  "language_info": {
   "codemirror_mode": {
    "name": "ipython",
    "version": 3
   },
   "file_extension": ".py",
   "mimetype": "text/x-python",
   "name": "python",
   "nbconvert_exporter": "python",
   "pygments_lexer": "ipython3",
   "version": "3.9.12"
  }
 },
 "nbformat": 4,
 "nbformat_minor": 5
}
