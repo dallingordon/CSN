{
 "cells": [
  {
   "cell_type": "code",
   "execution_count": 1,
   "id": "37ebe080",
   "metadata": {},
   "outputs": [
    {
     "data": {
      "text/html": [
       "\n",
       "                <audio  controls=\"controls\" >\n",
       "                    <source src=\"data:audio/x-wav;base64,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\" type=\"audio/x-wav\" />\n",
       "                    Your browser does not support the audio element.\n",
       "                </audio>\n",
       "              "
      ],
      "text/plain": [
       "<IPython.lib.display.Audio object>"
      ]
     },
     "execution_count": 1,
     "metadata": {},
     "output_type": "execute_result"
    }
   ],
   "source": [
    "from IPython.display import Audio\n",
    "import torch\n",
    "import os\n",
    "from scipy.io import wavfile\n",
    "import torch.nn as nn\n",
    "import torch.optim as optim\n",
    "from torch.utils.data import Dataset, Sampler, DataLoader\n",
    "import numpy as np\n",
    "import torch\n",
    "import torch.nn as nn\n",
    "\n",
    "# Play the .wav file\n",
    "Audio(\"digits/1.wav\")"
   ]
  },
  {
   "cell_type": "code",
   "execution_count": 2,
   "id": "944e97e3-9620-41c7-97a8-765cf97ddb13",
   "metadata": {},
   "outputs": [],
   "source": [
    "sample_rate, data = wavfile.read(\"digits/1.wav\")"
   ]
  },
  {
   "cell_type": "code",
   "execution_count": 3,
   "id": "5ede70e5-70b9-481a-8411-bcf1b6747f6a",
   "metadata": {},
   "outputs": [
    {
     "data": {
      "text/plain": [
       "24000"
      ]
     },
     "execution_count": 3,
     "metadata": {},
     "output_type": "execute_result"
    }
   ],
   "source": [
    "sample_rate"
   ]
  },
  {
   "cell_type": "code",
   "execution_count": 4,
   "id": "3152e33b",
   "metadata": {},
   "outputs": [],
   "source": [
    "class WaveformDatasetPreload(Dataset):\n",
    "    def __init__(self, directory, t_input, max_len, terminal_pad, seq_vocab_len, seq_max_len, seq_t):\n",
    "        \"\"\"\n",
    "        directory: Directory containing the .wav files.\n",
    "        t_input: Time input array for all files.\n",
    "        max_len: Maximum length of time steps needed for all files.\n",
    "        terminal_pad: Number of zeros to pad at the end of each audio file.\n",
    "        seq_max_len: maximum len of input sequence in tokens.\n",
    "        \"\"\"\n",
    "        self.directory = directory\n",
    "        self.files = sorted([f for f in os.listdir(directory) if f.endswith('.wav')][:100], key=lambda x: int(x.split('.')[0]))\n",
    "        self.t_input = t_input # max is taken care of outside.\n",
    "\n",
    "        self.terminal_pad = terminal_pad  # Fixed number of zeros to pad\n",
    "        self.seq_max_len = seq_max_len  # Maximum number of integers in the filename sequence\n",
    "        self.seq_t = seq_t[:seq_max_len]\n",
    "        self.seq_vocab_len = seq_vocab_len\n",
    "        # Preload and pad filenames\n",
    "        self.padded_file_name_integers = self._prepare_padded_filenames()\n",
    "\n",
    "        # **Change here**: Preload and pad audio files during initialization\n",
    "        self.wav_data_list = [self._load_and_pad(os.path.join(directory, f)) for f in self.files]\n",
    "        self.file_indices = []\n",
    "        self.total_length = 0\n",
    "\n",
    "        # Calculate lengths of all files and their indices\n",
    "        for i, wav_data in enumerate(self.wav_data_list):\n",
    "            length = wav_data.size(1)  # Assuming data is [channels, time], we take the time dimension\n",
    "            self.file_indices.extend([(i, j) for j in range(length)])\n",
    "            self.total_length += length\n",
    "\n",
    "    def _prepare_padded_filenames(self):\n",
    "        \"\"\"\n",
    "        Converts filenames into sequences of integers, right-padded with 0s up to seq_max_len length.\n",
    "        \"\"\"\n",
    "        padded_filenames = []\n",
    "        for file_name in self.files:\n",
    "            # Extract the number from the file name (without the '.wav' extension)\n",
    "            file_name_base = file_name.split('.')[0]\n",
    "            # Convert the number into a list of integers\n",
    "            file_name_integers = [int(char) for char in file_name_base]\n",
    "            # Pad the list with zeros until it matches the required length\n",
    "            padded_file_name = file_name_integers + [self.seq_vocab_len] * (self.seq_max_len - len(file_name_integers))\n",
    "             #### embedding_layer = nn.Embedding(vocab_size, embedding_dim, padding_idx=10) required!\n",
    "            # Convert to PyTorch tensor\n",
    "            padded_filenames.append(torch.tensor(padded_file_name, dtype=torch.long))\n",
    "        return padded_filenames\n",
    "\n",
    "    def _load_and_pad(self, file_path):\n",
    "        \"\"\"\n",
    "        **Change here**: Load and pad audio file only once during initialization.\n",
    "        \"\"\"\n",
    "        sample_rate, data = wavfile.read(file_path)\n",
    "        data = torch.tensor(data).unsqueeze(0)  # Convert to tensor and add channel dimension\n",
    "\n",
    "        # Normalize the data to the range [-1, 1] based on int16\n",
    "        if data.dtype == torch.int16:\n",
    "            data = data / 32768.0  # Normalize int16 data\n",
    "        elif data.dtype == torch.int32:\n",
    "            data = data / 2147483648.0  # Normalize int32 data\n",
    "        elif data.dtype == torch.float32:\n",
    "            pass  # If it's already float, assume it's in [-1, 1]\n",
    "\n",
    "        # Pad the data with zeros at the end\n",
    "        pad_length = self.terminal_pad\n",
    "        data_padded = torch.nn.functional.pad(data, (0, pad_length), mode='constant', value=0)\n",
    "        return data_padded\n",
    "\n",
    "    def _generate_target(self, wav_data):\n",
    "        \"\"\"\n",
    "        Helper function to generate the target tensor.\n",
    "        The target will have 1 in all positions except for the final terminal_pad zeros.\n",
    "        \"\"\"\n",
    "        target = torch.ones_like(wav_data)  # Create a target tensor with all ones\n",
    "        # Set the last terminal_pad positions to zero\n",
    "        target[:, -self.terminal_pad:] = 0\n",
    "        return target\n",
    "\n",
    "    def __len__(self):\n",
    "        return self.total_length\n",
    "\n",
    "    def __getitem__(self, idx):\n",
    "        # **No file loading happens here**; just retrieving preloaded data\n",
    "        file_idx, local_idx = self.file_indices[idx]\n",
    "        wav_data = self.wav_data_list[file_idx][:, local_idx]  # Slice based on channel and index\n",
    "        t_step = self.t_input[local_idx]  # Time input for the specific index\n",
    "        target = self._generate_target(self.wav_data_list[file_idx])[:, local_idx]  # Generate the target tensor\n",
    "\n",
    "        # Return the preprocessed padded file name integers for the given file_idx\n",
    "        padded_file_name_integers = self.padded_file_name_integers[file_idx]\n",
    "\n",
    "        num_padding = (padded_file_name_integers == self.seq_max_len).sum().item()\n",
    "\n",
    "        # Retain only non-padded values in seq_t and zero out the rest\n",
    "        retained_len = len(self.seq_t) - num_padding\n",
    "        seq_t_adjusted = self.seq_t.clone()  # Clone to avoid modifying the original tensor\n",
    "        if retained_len > 0:\n",
    "            seq_t_adjusted[retained_len:] = 0  # Zero out the right-padded elements\n",
    "\n",
    "        return wav_data, t_step, target, padded_file_name_integers, seq_t_adjusted"
   ]
  },
  {
   "cell_type": "code",
   "execution_count": 5,
   "id": "e00fc086",
   "metadata": {},
   "outputs": [],
   "source": [
    "\n",
    "\n",
    "class RandomConsecutiveSampler(Sampler):\n",
    "    def __init__(self, data_source, batch_size, consecutive_size):\n",
    "        \"\"\"\n",
    "        data_source: Dataset that returns (wav_data, time_step, file_idx)\n",
    "        batch_size: Number of consecutive segments in each batch\n",
    "        consecutive_size: How many consecutive steps to take for each sampled segment\n",
    "        \"\"\"\n",
    "        self.data_source = data_source\n",
    "        self.batch_size = batch_size\n",
    "        self.consecutive_size = consecutive_size\n",
    "\n",
    "    def __iter__(self):\n",
    "        indices = np.random.permutation(len(self.data_source) - self.consecutive_size + 1)\n",
    "        for i in range(0, len(indices), self.batch_size):\n",
    "            batch_indices = []\n",
    "            for j in range(i, min(i + self.batch_size, len(indices))):\n",
    "                start_idx = indices[j]\n",
    "                batch_indices.extend(range(start_idx, start_idx + self.consecutive_size))\n",
    "            yield batch_indices\n",
    "\n",
    "    def __len__(self):\n",
    "        return (len(self.data_source) - self.consecutive_size ) // self.batch_size\n",
    "\n",
    "class ConsecutiveDifferenceHigherOrderLossBatch(nn.Module):\n",
    "    def __init__(self, consecutive_size,order=1):\n",
    "        super(ConsecutiveDifferenceHigherOrderLossBatch, self).__init__()\n",
    "        self.consecutive_size = consecutive_size\n",
    "        self.order = order\n",
    "    def forward(self, prediction, target):\n",
    "        pred_reshape = prediction.view(-1, self.consecutive_size)\n",
    "        target_reshape = target.view(-1, self.consecutive_size)\n",
    "        result = torch.tensor([0.0])\n",
    "        \n",
    "        pred_a = pred_reshape[ 1:, :]\n",
    "        pred_b = pred_reshape[:-1,:]\n",
    "        target_a = target_reshape[ 1:, :]\n",
    "        target_b = target_reshape[:-1,:]\n",
    "        for i in range(self.order):\n",
    "            \n",
    "            pred_dif = pred_a - pred_b\n",
    "            target_dif = target_a - target_b\n",
    "            pred_a = pred_dif[ 1:, :]\n",
    "            pred_b = pred_dif[:-1,:]\n",
    "            target_a = target_dif[ 1:, :]\n",
    "            target_b = target_dif[:-1,:]\n",
    "            \n",
    "            result +=  torch.mean((pred_dif - target_dif) ** 2)/self.order\n",
    "        return result\n",
    "    \n",
    "class ConsecutiveDifferenceHigherOrderLoss(nn.Module):\n",
    "    def __init__(self, consecutive_size,order=1):\n",
    "        super(ConsecutiveDifferenceHigherOrderLoss, self).__init__()\n",
    "        self.consecutive_size = consecutive_size\n",
    "        self.order = order\n",
    "    def forward(self, prediction, target):\n",
    "        pred_reshape = prediction.view(-1, self.consecutive_size)\n",
    "        target_reshape = target.view(-1, self.consecutive_size)\n",
    "        result = torch.tensor([0.0])\n",
    "        \n",
    "        pred_a = pred_reshape[:, 1:]\n",
    "        pred_b = pred_reshape[:, :-1]\n",
    "        target_a = target_reshape[:, 1:]\n",
    "        target_b = target_reshape[:, :-1]\n",
    "        for i in range(self.order):\n",
    "            \n",
    "            pred_dif = pred_a - pred_b\n",
    "            target_dif = target_a - target_b\n",
    "            pred_a = pred_dif[:, 1:]\n",
    "            pred_b = pred_dif[:, :-1]\n",
    "            target_a = target_dif[:, 1:]\n",
    "            target_b = target_dif[:, :-1]\n",
    "            \n",
    "            result +=  torch.mean((pred_dif - target_dif) ** 2)/self.order\n",
    "        return result\n",
    "\n",
    "\n",
    "def get_max_required_length(dir):\n",
    "    max_length = 0\n",
    "    \n",
    "    # Iterate over all files in the directory\n",
    "    for filename in os.listdir(dir):\n",
    "        if filename.endswith('.wav'):  # Only process .wav files\n",
    "            file_path = os.path.join(dir, filename)\n",
    "            \n",
    "            # Read the .wav file\n",
    "            sample_rate, data = wavfile.read(file_path)\n",
    "            \n",
    "            # Get the length of the audio file (number of samples)\n",
    "            file_length = data.shape[0]  # shape[0] gives the number of samples (time dimension)\n",
    "            \n",
    "            # Update the max length if this file is longer\n",
    "            if file_length > max_length:\n",
    "                max_length = file_length\n",
    "\n",
    "    return max_length\n",
    "\n",
    "#import torch\n",
    "#import torch.nn as nn\n",
    "#import torch.optim as optim\n",
    "\n",
    "\n",
    "\n",
    "def binary_sequence_tensor(num_bits, length):\n",
    "    # Create a tensor of shape (length,) with values from 0 to length - 1\n",
    "    t_values = torch.arange(1,length+1) #start with 1\n",
    "\n",
    "    # Create a tensor to store the binary representations\n",
    "    binary_tensor = ((t_values.unsqueeze(1) >> torch.arange(num_bits)) & 1).float()\n",
    "    binary_tensor[binary_tensor == 0] = -1\n",
    "    return binary_tensor\n",
    "    "
   ]
  },
  {
   "cell_type": "code",
   "execution_count": 6,
   "id": "e142add0",
   "metadata": {},
   "outputs": [],
   "source": [
    "directory = \"digits_two/\""
   ]
  },
  {
   "cell_type": "code",
   "execution_count": 7,
   "id": "2aad72a8",
   "metadata": {},
   "outputs": [],
   "source": [
    "target_pad = 5\n",
    "bits = 16\n",
    "seq_bits = 4\n",
    "seq_max_len = 2\n",
    "seq_vocab_len = 10\n",
    "\n",
    "max_len = get_max_required_length(directory) \n",
    "\n",
    "t_input = binary_sequence_tensor(bits, max_len+ target_pad + 1 )  # Example, adjust this to match your real t_input\n",
    "\n",
    "t_seq = binary_sequence_tensor(seq_bits, seq_max_len )\n",
    "\n",
    "seq_t_input = binary_sequence_tensor(seq_bits, seq_max_len + 1) \n",
    "\n",
    "\n",
    "#this is for validating\n",
    "#t_input = np.linspace(1,max_len + target_pad,max_len + target_pad)\n",
    "\n",
    "# Instantiate the dataset directory, t_input, max_len, terminal_pad, seq_vocab_len, seq_max_len, seq_t\n",
    "dataset = WaveformDatasetPreload(directory, t_input, max_len, target_pad ,seq_vocab_len, seq_max_len,t_seq )\n",
    "\n",
    "# Sampler setup as before\n",
    "batch_size = 200\n",
    "consecutive_size = 10\n",
    "sampler = RandomConsecutiveSampler(dataset, batch_size, consecutive_size)\n",
    "\n",
    "# DataLoader\n",
    "dataloader = DataLoader(dataset, batch_sampler=sampler)\n"
   ]
  },
  {
   "cell_type": "code",
   "execution_count": 8,
   "id": "79aec833",
   "metadata": {},
   "outputs": [
    {
     "name": "stdout",
     "output_type": "stream",
     "text": [
      "Waveform data: torch.Size([2000, 1])\n",
      "Time step: torch.Size([2000, 16])\n",
      "Target tensor: torch.Size([2000, 1])\n",
      "File index: torch.Size([2000, 2])\n",
      "File index: torch.Size([2000, 2, 4])\n"
     ]
    }
   ],
   "source": [
    "for batch in dataloader:\n",
    "    wav_data, t_step, target, file_idx, seq_inputs = batch #right now this wraps arround, just fyi.  not sure its a bad thing.\n",
    "\n",
    "\n",
    "    print(\"Waveform data:\", wav_data.shape)\n",
    "    print(\"Time step:\", t_step.shape)\n",
    "    print(\"Target tensor:\", target.shape)\n",
    "    print(\"File index:\", file_idx.shape)\n",
    "    print(\"File index:\", seq_inputs.shape)\n",
    "    break"
   ]
  },
  {
   "cell_type": "code",
   "execution_count": 12,
   "id": "95285639",
   "metadata": {},
   "outputs": [],
   "source": [
    "from swissarmy import SeqModel\n",
    "config = {\n",
    "    't_seq_bits': seq_bits,  # Example value for the input bit size\n",
    "    't_seq_len': seq_max_len,    # Example value for the sequence length\n",
    "    't_bits': bits,      # Example value for the bits used in the decoder\n",
    "\n",
    "    'encoder': {\n",
    "        't_layer_dim': 0,               # Example hidden layer dimension for encoder\n",
    "        't_num_layers': 0,                # Example number of layers in the encoder's initial layer\n",
    "        'fc_layers': 4,                   # Example number of fully connected layers in the encoder\n",
    "        'encoder_layers': 2,              # Example number of encoder layers\n",
    "        'one_hot_vocab_len': 10,          # Vocabulary size for one-hot encoding\n",
    "        'one_hot_embedding_dim': 20       # Embedding dimension for one-hot encoding\n",
    "    },\n",
    "\n",
    "    'decoder': {\n",
    "        't_layer_dim': 0,                # Example hidden layer dimension for decoder\n",
    "        't_num_layers': 0,                # Example number of layers in the decoder's initial layer\n",
    "        'fc_layers': 4,                   # Example number of fully connected layers in the decoder\n",
    "        'decoder_layers': 1                # Example number of decoder layers\n",
    "    },\n",
    "\n",
    "    'output': {\n",
    "        'mse_output_layers': 2,           # Number of layers in the MSE output head\n",
    "        'mse_dim': 64,                     # Hidden dimension for the MSE output head\n",
    "        'bce_output_layers': 2,            # Number of layers in the BCE output head\n",
    "        'bce_dim': 64                      # Hidden dimension for the BCE output head\n",
    "    }\n",
    "}\n"
   ]
  },
  {
   "cell_type": "code",
   "execution_count": 13,
   "id": "b74724b4",
   "metadata": {},
   "outputs": [],
   "source": [
    "model = SeqModel(config)"
   ]
  },
  {
   "cell_type": "code",
   "execution_count": 14,
   "id": "5f3bd33f",
   "metadata": {},
   "outputs": [
    {
     "data": {
      "text/plain": [
       "SeqModel(\n",
       "  (encoder): SeqEncoder(\n",
       "    (initial_layer): SwissArmyLayer(\n",
       "      (t_layers): ModuleList()\n",
       "      (embedding): Embedding(11, 20, padding_idx=10)\n",
       "      (layers): ModuleList(\n",
       "        (0-3): 4 x Linear(in_features=24, out_features=24, bias=True)\n",
       "      )\n",
       "    )\n",
       "    (encoder_layers): ModuleList(\n",
       "      (0): SwissArmyLayer(\n",
       "        (t_layers): ModuleList()\n",
       "        (embedding): Embedding(11, 20, padding_idx=10)\n",
       "        (layers): ModuleList(\n",
       "          (0-3): 4 x Linear(in_features=48, out_features=48, bias=True)\n",
       "        )\n",
       "      )\n",
       "      (1): SwissArmyLayer(\n",
       "        (t_layers): ModuleList()\n",
       "        (embedding): Embedding(11, 20, padding_idx=10)\n",
       "        (layers): ModuleList(\n",
       "          (0-3): 4 x Linear(in_features=72, out_features=72, bias=True)\n",
       "        )\n",
       "      )\n",
       "    )\n",
       "  )\n",
       "  (decoder): SeqDecoder(\n",
       "    (decoder_layers): ModuleList(\n",
       "      (0): SwissArmyLayer(\n",
       "        (t_layers): ModuleList()\n",
       "        (layers): ModuleList(\n",
       "          (0-3): 4 x Linear(in_features=88, out_features=88, bias=True)\n",
       "        )\n",
       "      )\n",
       "    )\n",
       "  )\n",
       "  (mse_head): Sequential(\n",
       "    (0): Linear(in_features=88, out_features=64, bias=True)\n",
       "    (1): ReLU()\n",
       "    (2): Linear(in_features=64, out_features=64, bias=True)\n",
       "    (3): ReLU()\n",
       "    (4): Linear(in_features=64, out_features=1, bias=True)\n",
       "  )\n",
       "  (bce_head): Sequential(\n",
       "    (0): Linear(in_features=88, out_features=64, bias=True)\n",
       "    (1): ReLU()\n",
       "    (2): Linear(in_features=64, out_features=64, bias=True)\n",
       "    (3): ReLU()\n",
       "    (4): Linear(in_features=64, out_features=1, bias=True)\n",
       "    (5): Sigmoid()\n",
       "  )\n",
       ")"
      ]
     },
     "execution_count": 14,
     "metadata": {},
     "output_type": "execute_result"
    }
   ],
   "source": [
    "model"
   ]
  },
  {
   "cell_type": "code",
   "execution_count": 15,
   "id": "c9ca2dfd",
   "metadata": {},
   "outputs": [
    {
     "name": "stdout",
     "output_type": "stream",
     "text": [
      "tensor([[4, 7],\n",
      "        [4, 7],\n",
      "        [4, 7],\n",
      "        ...,\n",
      "        [7, 8],\n",
      "        [7, 8],\n",
      "        [7, 8]])\n",
      "(tensor([[0.4799],\n",
      "        [0.4800],\n",
      "        [0.4801],\n",
      "        ...,\n",
      "        [0.4801],\n",
      "        [0.4800],\n",
      "        [0.4803]], grad_fn=<SigmoidBackward0>), tensor([[-0.1415],\n",
      "        [-0.1417],\n",
      "        [-0.1417],\n",
      "        ...,\n",
      "        [-0.1415],\n",
      "        [-0.1416],\n",
      "        [-0.1414]], grad_fn=<AddmmBackward0>))\n"
     ]
    }
   ],
   "source": [
    "for batch in dataloader:\n",
    "    wav_data, t_step, target, file_idx, seq_inputs = batch #right now this wraps arround, just fyi.  not sure its a bad thing.\n",
    "    print(file_idx)\n",
    "\n",
    "    f = model(seq_inputs,file_idx,t_step)\n",
    "    print(f)\n",
    "    break"
   ]
  },
  {
   "cell_type": "code",
   "execution_count": 16,
   "id": "0489e947-bd0e-4115-ba71-8a71d3f068c8",
   "metadata": {},
   "outputs": [],
   "source": [
    "layer1_output = []\n",
    "def get_layer_output(module, input, output):\n",
    "    layer1_output.append(output)\n",
    "\n",
    "layer1_gradients = []  # List to store the gradients\n",
    "\n",
    "def get_layer_gradients(module, grad_input, grad_output):\n",
    "    layer1_gradients.append(grad_output[0])\n",
    "\n",
    "terminal_gradients = []\n",
    "def get_layer_gradients_t(module, grad_input, grad_output):\n",
    "    terminal_gradients.append(grad_output[0])"
   ]
  },
  {
   "cell_type": "code",
   "execution_count": 17,
   "id": "052a327d-8444-4672-bb4f-c7ee45fe3185",
   "metadata": {},
   "outputs": [
    {
     "data": {
      "text/plain": [
       "Linear(in_features=88, out_features=88, bias=True)"
      ]
     },
     "execution_count": 17,
     "metadata": {},
     "output_type": "execute_result"
    }
   ],
   "source": [
    "model.decoder.decoder_layers[0].layers[0]"
   ]
  },
  {
   "cell_type": "code",
   "execution_count": 18,
   "id": "dd7ddb0e-5d07-4ec1-96d7-0b1476096d1b",
   "metadata": {},
   "outputs": [
    {
     "ename": "IndexError",
     "evalue": "list index out of range",
     "output_type": "error",
     "traceback": [
      "\u001b[0;31m---------------------------------------------------------------------------\u001b[0m",
      "\u001b[0;31mIndexError\u001b[0m                                Traceback (most recent call last)",
      "Cell \u001b[0;32mIn[18], line 1\u001b[0m\n\u001b[0;32m----> 1\u001b[0m \u001b[43mlayer1_output\u001b[49m\u001b[43m[\u001b[49m\u001b[38;5;241;43m-\u001b[39;49m\u001b[38;5;241;43m1\u001b[39;49m\u001b[43m]\u001b[49m[\u001b[38;5;241m0\u001b[39m:\u001b[38;5;241m5\u001b[39m]\n",
      "\u001b[0;31mIndexError\u001b[0m: list index out of range"
     ]
    }
   ],
   "source": [
    "layer1_output[-1][0:5]"
   ]
  },
  {
   "cell_type": "code",
   "execution_count": 35,
   "id": "d37aff8e-edc8-4e76-a85d-7d2a29d3932c",
   "metadata": {},
   "outputs": [
    {
     "data": {
      "text/plain": [
       "<torch.utils.hooks.RemovableHandle at 0x7f83b18b1d90>"
      ]
     },
     "execution_count": 35,
     "metadata": {},
     "output_type": "execute_result"
    }
   ],
   "source": [
    "model.encoder.initial_layer.embedding.register_forward_hook(get_layer_output)\n",
    "model.encoder.initial_layer.embedding.register_backward_hook(get_layer_gradients)\n",
    "model.decoder.decoder_layers[0].layers[0].register_backward_hook(get_layer_gradients_t)"
   ]
  },
  {
   "cell_type": "code",
   "execution_count": 24,
   "id": "1afd181b",
   "metadata": {},
   "outputs": [],
   "source": [
    "# for tomorrow, tidy up the hyperparam.  no duplicates, and now multiple inputs for things that must be equal.  \n",
    "#train!!\n",
    "#also, add some distance from their common embedding from the binary thing to the wav output thing.  "
   ]
  },
  {
   "cell_type": "code",
   "execution_count": 19,
   "id": "16f4882d",
   "metadata": {},
   "outputs": [],
   "source": [
    "from tqdm import tqdm "
   ]
  },
  {
   "cell_type": "code",
   "execution_count": 156,
   "id": "a4ed86ec-bb7a-42b5-83ed-fe0c9237fd0f",
   "metadata": {},
   "outputs": [],
   "source": [
    "optimizer = optim.Adam(model.parameters(), lr=0.001)"
   ]
  },
  {
   "cell_type": "code",
   "execution_count": 20,
   "id": "7b03e101-3333-4f26-9d3b-59d5e3b3db46",
   "metadata": {},
   "outputs": [],
   "source": [
    "\n",
    "# Assuming `model` is your SeqModel instance\n",
    "encoder_params = list(model.encoder.parameters())\n",
    "decoder_params = list(model.decoder.parameters())\n",
    "output_params = list(model.mse_head.parameters()) + list(model.bce_head.parameters())\n",
    "\n",
    "# Set learning rates\n",
    "encoder_lr = 0.1  # Lower learning rate for the encoder\n",
    "other_lr = 0.001   # Normal learning rate for other layers\n",
    "\n",
    "# Create parameter groups\n",
    "optimizer = optim.Adam([\n",
    "    {'params': encoder_params, 'lr': encoder_lr},\n",
    "    {'params': decoder_params + output_params, 'lr': other_lr}\n",
    "])\n",
    "\n",
    "# Now you can use this optimizer in your training loop\n"
   ]
  },
  {
   "cell_type": "code",
   "execution_count": null,
   "id": "1fa418ad-baa3-4dcc-97c5-16b91bd0f929",
   "metadata": {},
   "outputs": [
    {
     "name": "stderr",
     "output_type": "stream",
     "text": [
      "Epoch 1/1:  83%|█████████████████████████████████████████████████▌          | 4645/5620 [11:14<02:09,  7.52it/s]"
     ]
    }
   ],
   "source": [
    "mse_loss_fn = nn.MSELoss()\n",
    "bce_loss_fn = nn.BCELoss()\n",
    "cdifb_loss = ConsecutiveDifferenceHigherOrderLossBatch(consecutive_size,order=3)\n",
    "cdif_loss = ConsecutiveDifferenceHigherOrderLoss(consecutive_size,order=3)\n",
    "\n",
    "num_epochs = 1\n",
    "\n",
    "# Training loop\n",
    "for epoch in range(num_epochs):\n",
    "    model.train()\n",
    "    \n",
    "    #for batch in dataloader:\n",
    "    for batch in tqdm(dataloader, desc=f\"Epoch {epoch+1}/{num_epochs}\"):\n",
    "        wav_data, t_step, target, file_idx, seq_inputs  = batch\n",
    "        \n",
    "        bce_output, mse_output = model(seq_inputs,file_idx,t_step)\n",
    "        # Compute losses\n",
    "        mse_loss = mse_loss_fn(mse_output*target, wav_data)  # Assuming the target is for MSE # is this accomplishing what i want?\n",
    "        bce_loss = bce_loss_fn(bce_output, target)  # Assuming the target is for BCE\n",
    "        cdif = cdif_loss(mse_output*target, wav_data)\n",
    "        #bc = bc_loss(outputs, targets)\n",
    "        cdif_b = cdifb_loss(mse_output*target, wav_data)\n",
    "        \n",
    "        \n",
    "        # Combine losses (you can weight them if needed)\n",
    "        total_loss = mse_loss + 0.2*bce_loss + 1.9*cdif  + 0.5*cdif_b\n",
    "        \n",
    "        # Backpropagation and optimization\n",
    "        optimizer.zero_grad()\n",
    "        total_loss.backward()\n",
    "        optimizer.step()\n",
    "        \n",
    "    # Print progress for each epoch\n",
    "    print(f\"Epoch {epoch+1}/{num_epochs} MSE: {mse_loss.item():.6f} BCE: {bce_loss.item():.6f} CDIF: {cdif.item():.6f}  Total Loss: {total_loss.item():.8f}\")\n",
    "    torch.save(model, \"digitssamodel.pth\")\n",
    "print(\"all done sweetheart <3\")"
   ]
  },
  {
   "cell_type": "code",
   "execution_count": 167,
   "id": "8dc4b6e8-442e-4a21-9c62-cc4817492d3a",
   "metadata": {},
   "outputs": [
    {
     "data": {
      "text/plain": [
       "tensor([[[-6.6579e-13,  2.8089e-13,  8.9541e-14,  ...,  1.0378e-12,\n",
       "           5.8580e-14, -2.7201e-14],\n",
       "         [ 3.9206e-13, -1.6857e-13, -1.9147e-13,  ...,  3.1528e-13,\n",
       "          -1.1073e-13,  3.9368e-14]],\n",
       "\n",
       "        [[-3.9055e-13,  2.5470e-13,  1.0510e-13,  ...,  7.1335e-13,\n",
       "           3.7507e-14, -1.2161e-14],\n",
       "         [ 2.8061e-13, -1.1419e-14, -6.7668e-14,  ...,  2.3763e-13,\n",
       "          -7.3589e-14, -1.5666e-15]],\n",
       "\n",
       "        [[-3.2400e-13,  1.6551e-13,  5.3292e-14,  ...,  6.2216e-13,\n",
       "           1.6982e-15, -6.6160e-16],\n",
       "         [ 2.6247e-13, -8.5663e-14, -6.5915e-14,  ...,  2.1553e-13,\n",
       "          -4.8086e-14,  2.4520e-14]],\n",
       "\n",
       "        ...,\n",
       "\n",
       "        [[ 9.8582e-13,  3.7224e-13, -2.8458e-13,  ..., -3.8393e-13,\n",
       "           3.3176e-13, -2.3203e-13],\n",
       "         [ 1.4997e-13,  3.3060e-13, -2.2705e-13,  ...,  2.6422e-13,\n",
       "           8.1120e-14, -1.8129e-13]],\n",
       "\n",
       "        [[ 1.0207e-12,  3.4227e-13, -3.1073e-13,  ..., -5.6465e-13,\n",
       "           3.6669e-13, -2.1539e-13],\n",
       "         [ 2.3971e-13,  4.4369e-13, -1.5130e-13,  ...,  3.3719e-13,\n",
       "           3.9137e-14, -1.3213e-13]],\n",
       "\n",
       "        [[ 8.4747e-13,  2.8291e-13, -1.0789e-13,  ..., -3.8659e-13,\n",
       "           2.3140e-13, -1.3918e-13],\n",
       "         [ 1.4799e-13,  2.2397e-13, -1.8189e-13,  ...,  3.0883e-13,\n",
       "          -6.4665e-14, -1.6475e-13]]])"
      ]
     },
     "execution_count": 167,
     "metadata": {},
     "output_type": "execute_result"
    }
   ],
   "source": [
    "layer1_gradients[-1]"
   ]
  },
  {
   "cell_type": "code",
   "execution_count": 144,
   "id": "dd62dcfc-ebea-4b31-9f54-3a892c0db3b6",
   "metadata": {},
   "outputs": [
    {
     "data": {
      "text/plain": [
       "tensor([[-8.4067e-09, -4.9283e-09, -4.2304e-09,  ..., -2.5476e-09,\n",
       "          0.0000e+00, -9.0837e-09],\n",
       "        [-5.9386e-09,  0.0000e+00, -5.5059e-09,  ..., -4.2041e-09,\n",
       "          0.0000e+00, -3.1187e-09],\n",
       "        [-4.6013e-09,  0.0000e+00, -3.0057e-09,  ..., -3.0409e-09,\n",
       "          0.0000e+00, -3.8605e-09],\n",
       "        ...,\n",
       "        [-9.7968e-09,  0.0000e+00, -1.2841e-08,  ..., -6.5204e-09,\n",
       "          0.0000e+00,  0.0000e+00],\n",
       "        [-1.5769e-08,  0.0000e+00, -1.1618e-08,  ..., -1.1497e-08,\n",
       "          0.0000e+00, -7.5495e-09],\n",
       "        [ 0.0000e+00,  0.0000e+00, -1.2772e-08,  ..., -9.3151e-09,\n",
       "          0.0000e+00, -4.7902e-09]])"
      ]
     },
     "execution_count": 144,
     "metadata": {},
     "output_type": "execute_result"
    }
   ],
   "source": [
    "terminal_gradients[-1]"
   ]
  },
  {
   "cell_type": "code",
   "execution_count": 28,
   "id": "6a8f8825",
   "metadata": {},
   "outputs": [],
   "source": [
    "#torch.save(model, \"digits5k_second_try.pth\")"
   ]
  },
  {
   "cell_type": "code",
   "execution_count": 29,
   "id": "9a1776b5",
   "metadata": {},
   "outputs": [],
   "source": [
    "\n",
    "\n",
    "# Set the model to evaluation mode (if you're using it for inference)\n",
    "#model.eval()"
   ]
  },
  {
   "cell_type": "code",
   "execution_count": 180,
   "id": "4b13b663",
   "metadata": {},
   "outputs": [
    {
     "name": "stdout",
     "output_type": "stream",
     "text": [
      "tensor([ 3, 10]) torch.Size([2])\n",
      "torch.Size([27419, 2]) torch.Size([27419, 2, 4]) torch.Size([27419, 16])\n"
     ]
    }
   ],
   "source": [
    "digits = \"3\"\n",
    "rep = t_input.shape[0] #this is good, \n",
    "input_seq_1 = seq_t_input[:-1]\n",
    "\n",
    "file = [int(char) for char in digits] \n",
    "input_seq_1[len(file):] = 0\n",
    "\n",
    "file = file + [10] * (2 - len(file))\n",
    "file = torch.tensor(file)\n",
    "print(file, file.shape)\n",
    "file = file.unsqueeze(0).repeat(rep,1)\n",
    "input_seq_eval = input_seq_1.unsqueeze(0).repeat(rep, 1,1)\n",
    "\n",
    "print(file.shape,input_seq_eval.shape, t_input.shape )\n"
   ]
  },
  {
   "cell_type": "code",
   "execution_count": 181,
   "id": "cf739cae",
   "metadata": {},
   "outputs": [],
   "source": [
    "# Assuming input shapes: (batch_size, ...)\n",
    "# Define your eval batch size\n",
    "eval_batch_size = 200\n",
    "\n",
    "# Initialize lists to store outputs\n",
    "bce_outputs = []\n",
    "mse_outputs = []\n",
    "\n",
    "# Get the total number of batches\n",
    "total_batches = (file.shape[0] + eval_batch_size - 1) // eval_batch_size\n",
    "\n",
    "# Loop over batches\n",
    "for i in range(total_batches):\n",
    "    # Define the start and end of the batch\n",
    "    start_idx = i * eval_batch_size\n",
    "    end_idx = min((i + 1) * eval_batch_size, file.shape[0])\n",
    "\n",
    "    # Slice the batch from each input\n",
    "    batch_file = file[start_idx:end_idx]\n",
    "    batch_input_seq_eval = input_seq_eval[start_idx:end_idx]\n",
    "    batch_t_input = t_input[start_idx:end_idx]\n",
    "\n",
    "    # Run the model in evaluation mode (assuming the model is in eval mode already)\n",
    "    with torch.no_grad():  # Disable gradient calculation for evaluation\n",
    "        bce_output, mse_output = model(batch_input_seq_eval, batch_file, batch_t_input)\n",
    "    \n",
    "    # Append the outputs\n",
    "    bce_outputs.append(bce_output)\n",
    "    mse_outputs.append(mse_output)\n",
    "\n",
    "# Optionally, concatenate the outputs into single tensors\n",
    "bce_outputs = torch.cat(bce_outputs, dim=0)\n",
    "mse_outputs = torch.cat(mse_outputs, dim=0)\n",
    "\n",
    "# Now bce_outputs and mse_outputs contain the model outputs for all batches\n"
   ]
  },
  {
   "cell_type": "code",
   "execution_count": 182,
   "id": "a727aaf1",
   "metadata": {},
   "outputs": [
    {
     "data": {
      "image/png": "[encoded data removed]",
      "text/plain": [
       "<Figure size 1440x432 with 2 Axes>"
      ]
     },
     "metadata": {
      "needs_background": "light"
     },
     "output_type": "display_data"
    }
   ],
   "source": [
    "import matplotlib.pyplot as plt\n",
    "\n",
    "\n",
    "\n",
    "\n",
    "# Create a figure and plot both outputs\n",
    "plt.figure(figsize=(20, 6))\n",
    "\n",
    "# Plot BCE outputs\n",
    "plt.subplot(1, 2, 1)\n",
    "plt.plot(bce_outputs.numpy(), label='BCE Output')\n",
    "plt.title('BCE Output')\n",
    "plt.xlabel('Batch index')\n",
    "plt.ylabel('BCE Value')\n",
    "plt.legend()\n",
    "\n",
    "# Plot MSE outputs\n",
    "plt.subplot(1, 2, 2)\n",
    "plt.plot(mse_outputs.numpy(), label='MSE Output', color='orange')\n",
    "plt.title('MSE Output')\n",
    "plt.xlabel('Batch index')\n",
    "plt.ylabel('MSE Value')\n",
    "plt.legend()\n",
    "\n",
    "# Display the plots\n",
    "plt.tight_layout()\n",
    "plt.show()\n"
   ]
  },
  {
   "cell_type": "code",
   "execution_count": 183,
   "id": "4589d386",
   "metadata": {},
   "outputs": [
    {
     "name": "stdout",
     "output_type": "stream",
     "text": [
      "Saved as test_mult_first_bad.wav\n"
     ]
    }
   ],
   "source": [
    "import torch\n",
    "import numpy as np\n",
    "from scipy.io.wavfile import write\n",
    "\n",
    "\n",
    "def tensor_to_wav(tensor, filename, sample_rate=44100,cut_off=-1 ):\n",
    "    # Convert tensor to numpy array and detach if needed\n",
    "    data = tensor.detach().cpu().numpy()[:cut_off]\n",
    "    # Normalize to the range [-1, 1]\n",
    "    #data = data / np.max(np.abs(data))\n",
    "\n",
    "    # Convert to 16-bit PCM format (values between -32768 and 32767)\n",
    "    data_int16 = np.int16(data * 32768)\n",
    "\n",
    "    # Write the .wav file\n",
    "    write(filename, sample_rate, data_int16)\n",
    "    print(f\"Saved as {filename}\")\n",
    "\n",
    "# Example usage with your model predictions (assuming predictions are in range -1 to 1):\n",
    "# predictions is the output tensor from the model\n",
    "tensor_to_wav(mse_outputs, \"test_mult_first_bad.wav\",sample_rate)"
   ]
  },
  {
   "cell_type": "code",
   "execution_count": 178,
   "id": "1a2aeaa7",
   "metadata": {},
   "outputs": [
    {
     "data": {
      "text/html": [
       "\n",
       "                <audio  controls=\"controls\" >\n",
       "                    <source src=\"data:audio/x-wav;base64,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\" type=\"audio/x-wav\" />\n",
       "                    Your browser does not support the audio element.\n",
       "                </audio>\n",
       "              "
      ],
      "text/plain": [
       "<IPython.lib.display.Audio object>"
      ]
     },
     "execution_count": 178,
     "metadata": {},
     "output_type": "execute_result"
    }
   ],
   "source": [
    "from IPython.display import Audio\n",
    "\n",
    "# Play the .wav file\n",
    "Audio(\"test_mult_first_bad.wav\")"
   ]
  },
  {
   "cell_type": "code",
   "execution_count": null,
   "id": "be97673f",
   "metadata": {},
   "outputs": [],
   "source": [
    "in seq embedding, you need the individual file again.  it needs its own embedding at that layer too!!"
   ]
  },
  {
   "cell_type": "code",
   "execution_count": null,
   "id": "78fb066b",
   "metadata": {},
   "outputs": [],
   "source": [
    "#the forward for eval is not super efficient, we only need to run the seq stuff once.  idk.  not super important right now.  \n"
   ]
  },
  {
   "cell_type": "code",
   "execution_count": null,
   "id": "4b31fe86",
   "metadata": {},
   "outputs": [],
   "source": [
    "time \"embedding\"  pass the t through a layer before you concatenat? not a bad idea\n",
    "\n",
    "add depth to the bce and mse stuff. \n",
    "\n",
    "add time varying encoder part\n",
    "\n",
    "train longer.  \n",
    "\n",
    "the trainer should show like, averages.  lets do that before putting it on scc.  get a better idea of what is happening.\n",
    "\n"
   ]
  },
  {
   "cell_type": "code",
   "execution_count": null,
   "id": "0e57303e-8f66-45e5-8c19-bc3364fb75a9",
   "metadata": {},
   "outputs": [],
   "source": [
    "see what the embedding outputs for the padded bits? is it training on it at all?\n"
   ]
  }
 ],
 "metadata": {
  "kernelspec": {
   "display_name": "Python 3 (ipykernel)",
   "language": "python",
   "name": "python3"
  },
  "language_info": {
   "codemirror_mode": {
    "name": "ipython",
    "version": 3
   },
   "file_extension": ".py",
   "mimetype": "text/x-python",
   "name": "python",
   "nbconvert_exporter": "python",
   "pygments_lexer": "ipython3",
   "version": "3.9.12"
  }
 },
 "nbformat": 4,
 "nbformat_minor": 5
}
