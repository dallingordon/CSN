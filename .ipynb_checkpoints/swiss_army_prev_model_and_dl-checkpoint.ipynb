{
 "cells": [
  {
   "cell_type": "code",
   "execution_count": 1,
   "id": "0bec28fd-ab6d-4215-a35a-2d681195f99f",
   "metadata": {},
   "outputs": [],
   "source": [
    "from dataloader_prev_preload import WaveformDatasetPreload\n",
    "from sampler_prev import RandomConsecutiveSampler\n",
    "from losses import ConsecutiveDifferenceHigherOrderLossBatch, ConsecutiveDifferenceHigherOrderLoss\n",
    "from swissarmy_prev import SeqModel\n",
    "\n",
    "\n",
    "import numpy as np\n",
    "import torch\n",
    "from tqdm import tqdm \n",
    "from torch.utils.data import DataLoader\n",
    "import torch.optim as optim\n",
    "import torch.nn as nn"
   ]
  },
  {
   "cell_type": "code",
   "execution_count": 2,
   "id": "efebe3c2-8ce3-46c1-ac76-05a8214a5f3a",
   "metadata": {},
   "outputs": [],
   "source": [
    "def generate_sine_tensor(num_bits, length):\n",
    "    # Create an array of integers from 0 to length - 1\n",
    "    t = np.arange(length)\n",
    "    # Generate the sine waves for each bit\n",
    "    sine_tensor = np.zeros((length, num_bits))  # Initialize the tensor\n",
    "    \n",
    "    for i in range(num_bits):\n",
    "        frequency = (np.pi / (2 ** i))  # Calculate frequency based on the number of bits\n",
    "        sine_tensor[:, i] = np.cos(frequency * (t))  # Fill the tensor with sine values\n",
    "\n",
    "    return sine_tensor"
   ]
  },
  {
   "cell_type": "code",
   "execution_count": 3,
   "id": "2d117af1-8ee4-4578-9eac-936e89d0d57e",
   "metadata": {},
   "outputs": [],
   "source": [
    "num_bits = 21\n",
    "max_len = 100_000\n",
    "seq_bits = 4\n",
    "seq_max_len = 2\n",
    "pred_prev = 1\n",
    "directory = \"digits_two/\"\n",
    "terminal_pad = 11\n",
    "seq_vocab_len = 10\n",
    "\n",
    "# Sampler setup as before\n",
    "batch_size = 200\n",
    "consecutive_size = 10"
   ]
  },
  {
   "cell_type": "code",
   "execution_count": 4,
   "id": "638eda3a-1bd4-4231-ba3d-49c7a4655907",
   "metadata": {},
   "outputs": [
    {
     "name": "stdout",
     "output_type": "stream",
     "text": [
      "torch.Size([100000, 21])\n",
      "torch.Size([2, 4])\n"
     ]
    }
   ],
   "source": [
    "t_input = torch.tensor(generate_sine_tensor(num_bits,max_len)).float()\n",
    "print(t_input.shape)\n",
    "\n",
    "seq_t = torch.tensor(generate_sine_tensor(seq_bits,seq_max_len)).float()\n",
    "print(seq_t.shape)"
   ]
  },
  {
   "cell_type": "code",
   "execution_count": 5,
   "id": "56cb86a2-a43c-4365-a5f1-3684461a3b18",
   "metadata": {},
   "outputs": [
    {
     "data": {
      "text/plain": [
       "tensor([[ 1.0000e+00,  1.0000e+00,  1.0000e+00,  ...,  1.0000e+00,\n",
       "          1.0000e+00,  1.0000e+00],\n",
       "        [-1.0000e+00,  6.1232e-17,  7.0711e-01,  ...,  1.0000e+00,\n",
       "          1.0000e+00,  1.0000e+00],\n",
       "        [ 1.0000e+00, -1.0000e+00,  6.1232e-17,  ...,  1.0000e+00,\n",
       "          1.0000e+00,  1.0000e+00],\n",
       "        ...,\n",
       "        [-1.0000e+00,  9.2903e-12, -7.0711e-01,  ...,  3.6386e-01,\n",
       "          8.2579e-01,  9.5546e-01],\n",
       "        [ 1.0000e+00, -1.0000e+00, -5.9268e-12,  ...,  3.6385e-01,\n",
       "          8.2579e-01,  9.5545e-01],\n",
       "        [-1.0000e+00, -1.4417e-11,  7.0711e-01,  ...,  3.6384e-01,\n",
       "          8.2578e-01,  9.5545e-01]])"
      ]
     },
     "execution_count": 5,
     "metadata": {},
     "output_type": "execute_result"
    }
   ],
   "source": [
    "t_input"
   ]
  },
  {
   "cell_type": "code",
   "execution_count": 6,
   "id": "23d19853-d5b9-4caf-9e8e-a0167ba150b5",
   "metadata": {},
   "outputs": [
    {
     "data": {
      "text/plain": [
       "tensor([[ 1.0000e+00,  1.0000e+00,  1.0000e+00,  1.0000e+00],\n",
       "        [-1.0000e+00,  6.1232e-17,  7.0711e-01,  9.2388e-01]])"
      ]
     },
     "execution_count": 6,
     "metadata": {},
     "output_type": "execute_result"
    }
   ],
   "source": [
    "seq_t"
   ]
  },
  {
   "cell_type": "code",
   "execution_count": 7,
   "id": "1980676f-4a26-468c-bba3-7d14cb894683",
   "metadata": {},
   "outputs": [],
   "source": [
    "dataset = WaveformDatasetPreload(directory, t_input, max_len, terminal_pad, seq_vocab_len, seq_max_len, seq_t,pred_prev)\n",
    "\n",
    " \n",
    "\n",
    "\n",
    "sampler = RandomConsecutiveSampler(dataset, batch_size, consecutive_size)\n",
    "\n",
    "# DataLoader\n",
    "dataloader = DataLoader(dataset, batch_sampler=sampler)"
   ]
  },
  {
   "cell_type": "code",
   "execution_count": 8,
   "id": "378851b8-8cff-4b44-93ae-0c4598979403",
   "metadata": {},
   "outputs": [
    {
     "name": "stdout",
     "output_type": "stream",
     "text": [
      "torch.Size([1, 27424])\n",
      "torch.Size([1, 27424, 1])\n"
     ]
    }
   ],
   "source": [
    "print(dataset.wav_data_list[0].shape)\n",
    "print(dataset.pred_data_list[0].shape)"
   ]
  },
  {
   "cell_type": "code",
   "execution_count": 9,
   "id": "d0c2984f-1270-46ee-a372-ba228a569f42",
   "metadata": {},
   "outputs": [
    {
     "name": "stdout",
     "output_type": "stream",
     "text": [
      "Waveform data: torch.Size([2000, 1])\n",
      "Time step: torch.Size([2000, 21])\n",
      "Target tensor: torch.Size([2000, 1])\n",
      "File index: torch.Size([2000, 2])\n",
      "File index: torch.Size([2000, 2, 4])\n",
      "Previous Predictions: torch.Size([2000, 1])\n",
      "Waveform data: torch.Size([2000, 1])\n",
      "Time step: torch.Size([2000, 21])\n",
      "Target tensor: torch.Size([2000, 1])\n",
      "File index: torch.Size([2000, 2])\n",
      "File index: torch.Size([2000, 2, 4])\n",
      "Previous Predictions: torch.Size([2000, 1])\n",
      "Waveform data: torch.Size([2000, 1])\n",
      "Time step: torch.Size([2000, 21])\n",
      "Target tensor: torch.Size([2000, 1])\n",
      "File index: torch.Size([2000, 2])\n",
      "File index: torch.Size([2000, 2, 4])\n",
      "Previous Predictions: torch.Size([2000, 1])\n",
      "Waveform data: torch.Size([2000, 1])\n",
      "Time step: torch.Size([2000, 21])\n",
      "Target tensor: torch.Size([2000, 1])\n",
      "File index: torch.Size([2000, 2])\n",
      "File index: torch.Size([2000, 2, 4])\n",
      "Previous Predictions: torch.Size([2000, 1])\n",
      "Waveform data: torch.Size([2000, 1])\n",
      "Time step: torch.Size([2000, 21])\n",
      "Target tensor: torch.Size([2000, 1])\n",
      "File index: torch.Size([2000, 2])\n",
      "File index: torch.Size([2000, 2, 4])\n",
      "Previous Predictions: torch.Size([2000, 1])\n",
      "Waveform data: torch.Size([2000, 1])\n",
      "Time step: torch.Size([2000, 21])\n",
      "Target tensor: torch.Size([2000, 1])\n",
      "File index: torch.Size([2000, 2])\n",
      "File index: torch.Size([2000, 2, 4])\n",
      "Previous Predictions: torch.Size([2000, 1])\n",
      "Waveform data: torch.Size([2000, 1])\n",
      "Time step: torch.Size([2000, 21])\n",
      "Target tensor: torch.Size([2000, 1])\n",
      "File index: torch.Size([2000, 2])\n",
      "File index: torch.Size([2000, 2, 4])\n",
      "Previous Predictions: torch.Size([2000, 1])\n",
      "Waveform data: torch.Size([2000, 1])\n",
      "Time step: torch.Size([2000, 21])\n",
      "Target tensor: torch.Size([2000, 1])\n",
      "File index: torch.Size([2000, 2])\n",
      "File index: torch.Size([2000, 2, 4])\n",
      "Previous Predictions: torch.Size([2000, 1])\n",
      "Waveform data: torch.Size([2000, 1])\n",
      "Time step: torch.Size([2000, 21])\n",
      "Target tensor: torch.Size([2000, 1])\n",
      "File index: torch.Size([2000, 2])\n",
      "File index: torch.Size([2000, 2, 4])\n",
      "Previous Predictions: torch.Size([2000, 1])\n",
      "Waveform data: torch.Size([2000, 1])\n",
      "Time step: torch.Size([2000, 21])\n",
      "Target tensor: torch.Size([2000, 1])\n",
      "File index: torch.Size([2000, 2])\n",
      "File index: torch.Size([2000, 2, 4])\n",
      "Previous Predictions: torch.Size([2000, 1])\n",
      "Waveform data: torch.Size([2000, 1])\n",
      "Time step: torch.Size([2000, 21])\n",
      "Target tensor: torch.Size([2000, 1])\n",
      "File index: torch.Size([2000, 2])\n",
      "File index: torch.Size([2000, 2, 4])\n",
      "Previous Predictions: torch.Size([2000, 1])\n"
     ]
    }
   ],
   "source": [
    "iteration = 0\n",
    "\n",
    "for batch in dataloader:\n",
    "    wav_data, t_step, target, file_idx, seq_inputs, prev_target = batch #right now this wraps arround, just fyi.  not sure its a bad thing.\n",
    "\n",
    "    print(\"Waveform data:\", wav_data.shape)\n",
    "    print(\"Time step:\", t_step.shape)\n",
    "    print(\"Target tensor:\", target.shape)\n",
    "    print(\"File index:\", file_idx.shape)\n",
    "    print(\"File index:\", seq_inputs.shape)\n",
    "    print(\"Previous Predictions:\", prev_target.shape)\n",
    "    #print(wav_data)\n",
    "    #print(prev_target)\n",
    "    iteration = iteration + 1\n",
    "    if iteration > 10:\n",
    "        break\n",
    "    "
   ]
  },
  {
   "cell_type": "code",
   "execution_count": 10,
   "id": "47f6679b-16f1-4c3f-b363-92b2dc5e141a",
   "metadata": {},
   "outputs": [],
   "source": [
    "\n",
    "config = {\n",
    "    't_seq_bits': seq_bits,  # Example value for the input bit size\n",
    "    't_seq_len': seq_max_len,    # Example value for the sequence length\n",
    "    't_bits': num_bits,      # Example value for the bits used in the decoder\n",
    "\n",
    "    'encoder': {\n",
    "        't_layer_dim': 0,               # Example hidden layer dimension for encoder\n",
    "        't_num_layers': 0,                # Example number of layers in the encoder's initial layer\n",
    "        'fc_layers': 5,                   # Example number of fully connected layers in the encoder\n",
    "        'encoder_layers': 2,              # Example number of encoder layers\n",
    "        'one_hot_vocab_len': 10,          # Vocabulary size for one-hot encoding\n",
    "        'one_hot_embedding_dim': 100       # Embedding dimension for one-hot encoding\n",
    "    },\n",
    "\n",
    "    'decoder': {\n",
    "        't_layer_dim': 0,                # Example hidden layer dimension for decoder\n",
    "        't_num_layers': 0,                # Example number of layers in the decoder's initial layer\n",
    "        'fc_layers': 5,                   # Example number of fully connected layers in the decoder\n",
    "        'decoder_layers': 2,                # Example number of decoder layers\n",
    "        'pred_prev_dim': pred_prev\n",
    "    },\n",
    "\n",
    "    'output': {\n",
    "        'mse_output_layers': 4,           # Number of layers in the MSE output head\n",
    "        'mse_dim': 64,                     # Hidden dimension for the MSE output head\n",
    "        'bce_output_layers': 4,            # Number of layers in the BCE output head\n",
    "        'bce_dim': 64                      # Hidden dimension for the BCE output head\n",
    "    }\n",
    "}\n"
   ]
  },
  {
   "cell_type": "code",
   "execution_count": 11,
   "id": "861688d4-3ae0-425d-a636-299aa6a44a59",
   "metadata": {},
   "outputs": [],
   "source": [
    "model = SeqModel(config)"
   ]
  },
  {
   "cell_type": "code",
   "execution_count": 12,
   "id": "8a159c23-a767-47db-8b6d-4504d3d8c511",
   "metadata": {},
   "outputs": [
    {
     "data": {
      "text/plain": [
       "SeqModel(\n",
       "  (encoder): SeqEncoder(\n",
       "    (initial_layer): SwissArmyLayer(\n",
       "      (t_layers): ModuleList()\n",
       "      (embedding): Embedding(11, 100, padding_idx=10)\n",
       "      (layers): ModuleList(\n",
       "        (0-4): 5 x Linear(in_features=104, out_features=104, bias=True)\n",
       "      )\n",
       "    )\n",
       "    (encoder_layers): ModuleList(\n",
       "      (0): SwissArmyLayer(\n",
       "        (t_layers): ModuleList()\n",
       "        (embedding): Embedding(11, 100, padding_idx=10)\n",
       "        (layers): ModuleList(\n",
       "          (0-4): 5 x Linear(in_features=208, out_features=208, bias=True)\n",
       "        )\n",
       "      )\n",
       "      (1): SwissArmyLayer(\n",
       "        (t_layers): ModuleList()\n",
       "        (embedding): Embedding(11, 100, padding_idx=10)\n",
       "        (layers): ModuleList(\n",
       "          (0-4): 5 x Linear(in_features=312, out_features=312, bias=True)\n",
       "        )\n",
       "      )\n",
       "    )\n",
       "  )\n",
       "  (decoder): SeqDecoder(\n",
       "    (decoder_layers): ModuleList(\n",
       "      (0): SwissArmyLayer(\n",
       "        (t_layers): ModuleList()\n",
       "        (layers): ModuleList(\n",
       "          (0-4): 5 x Linear(in_features=334, out_features=334, bias=True)\n",
       "        )\n",
       "      )\n",
       "      (1): SwissArmyLayer(\n",
       "        (t_layers): ModuleList()\n",
       "        (layers): ModuleList(\n",
       "          (0-4): 5 x Linear(in_features=356, out_features=356, bias=True)\n",
       "        )\n",
       "      )\n",
       "    )\n",
       "  )\n",
       "  (mse_head): Sequential(\n",
       "    (0): Linear(in_features=356, out_features=64, bias=True)\n",
       "    (1): ReLU()\n",
       "    (2): Linear(in_features=64, out_features=64, bias=True)\n",
       "    (3): ReLU()\n",
       "    (4): Linear(in_features=64, out_features=64, bias=True)\n",
       "    (5): ReLU()\n",
       "    (6): Linear(in_features=64, out_features=64, bias=True)\n",
       "    (7): ReLU()\n",
       "    (8): Linear(in_features=64, out_features=1, bias=True)\n",
       "  )\n",
       "  (bce_head): Sequential(\n",
       "    (0): Linear(in_features=356, out_features=64, bias=True)\n",
       "    (1): ReLU()\n",
       "    (2): Linear(in_features=64, out_features=64, bias=True)\n",
       "    (3): ReLU()\n",
       "    (4): Linear(in_features=64, out_features=64, bias=True)\n",
       "    (5): ReLU()\n",
       "    (6): Linear(in_features=64, out_features=64, bias=True)\n",
       "    (7): ReLU()\n",
       "    (8): Linear(in_features=64, out_features=1, bias=True)\n",
       "    (9): Sigmoid()\n",
       "  )\n",
       ")"
      ]
     },
     "execution_count": 12,
     "metadata": {},
     "output_type": "execute_result"
    }
   ],
   "source": [
    "model"
   ]
  },
  {
   "cell_type": "code",
   "execution_count": 89,
   "id": "7ea636d9-a25c-4f9c-a0d0-43c09105cc3e",
   "metadata": {},
   "outputs": [
    {
     "ename": "RuntimeError",
     "evalue": "Sizes of tensors must match except in dimension 1. Expected size 250 but got size 1 for tensor number 1 in the list.",
     "output_type": "error",
     "traceback": [
      "\u001b[0;31m---------------------------------------------------------------------------\u001b[0m",
      "\u001b[0;31mRuntimeError\u001b[0m                              Traceback (most recent call last)",
      "Cell \u001b[0;32mIn[89], line 1\u001b[0m\n\u001b[0;32m----> 1\u001b[0m bce_output, mse_output \u001b[38;5;241m=\u001b[39m \u001b[43mmodel\u001b[49m\u001b[43m(\u001b[49m\u001b[43mseq_inputs\u001b[49m\u001b[43m,\u001b[49m\u001b[43mfile_idx\u001b[49m\u001b[43m,\u001b[49m\u001b[43mt_step\u001b[49m\u001b[43m,\u001b[49m\u001b[43mprev_target\u001b[49m\u001b[43m)\u001b[49m\n\u001b[1;32m      2\u001b[0m \u001b[38;5;28mprint\u001b[39m(bce_output\u001b[38;5;241m.\u001b[39mshape, mse_output\u001b[38;5;241m.\u001b[39mshape)\n",
      "File \u001b[0;32m~/opt/anaconda3/lib/python3.9/site-packages/torch/nn/modules/module.py:1511\u001b[0m, in \u001b[0;36mModule._wrapped_call_impl\u001b[0;34m(self, *args, **kwargs)\u001b[0m\n\u001b[1;32m   1509\u001b[0m     \u001b[38;5;28;01mreturn\u001b[39;00m \u001b[38;5;28mself\u001b[39m\u001b[38;5;241m.\u001b[39m_compiled_call_impl(\u001b[38;5;241m*\u001b[39margs, \u001b[38;5;241m*\u001b[39m\u001b[38;5;241m*\u001b[39mkwargs)  \u001b[38;5;66;03m# type: ignore[misc]\u001b[39;00m\n\u001b[1;32m   1510\u001b[0m \u001b[38;5;28;01melse\u001b[39;00m:\n\u001b[0;32m-> 1511\u001b[0m     \u001b[38;5;28;01mreturn\u001b[39;00m \u001b[38;5;28;43mself\u001b[39;49m\u001b[38;5;241;43m.\u001b[39;49m\u001b[43m_call_impl\u001b[49m\u001b[43m(\u001b[49m\u001b[38;5;241;43m*\u001b[39;49m\u001b[43margs\u001b[49m\u001b[43m,\u001b[49m\u001b[43m \u001b[49m\u001b[38;5;241;43m*\u001b[39;49m\u001b[38;5;241;43m*\u001b[39;49m\u001b[43mkwargs\u001b[49m\u001b[43m)\u001b[49m\n",
      "File \u001b[0;32m~/opt/anaconda3/lib/python3.9/site-packages/torch/nn/modules/module.py:1520\u001b[0m, in \u001b[0;36mModule._call_impl\u001b[0;34m(self, *args, **kwargs)\u001b[0m\n\u001b[1;32m   1515\u001b[0m \u001b[38;5;66;03m# If we don't have any hooks, we want to skip the rest of the logic in\u001b[39;00m\n\u001b[1;32m   1516\u001b[0m \u001b[38;5;66;03m# this function, and just call forward.\u001b[39;00m\n\u001b[1;32m   1517\u001b[0m \u001b[38;5;28;01mif\u001b[39;00m \u001b[38;5;129;01mnot\u001b[39;00m (\u001b[38;5;28mself\u001b[39m\u001b[38;5;241m.\u001b[39m_backward_hooks \u001b[38;5;129;01mor\u001b[39;00m \u001b[38;5;28mself\u001b[39m\u001b[38;5;241m.\u001b[39m_backward_pre_hooks \u001b[38;5;129;01mor\u001b[39;00m \u001b[38;5;28mself\u001b[39m\u001b[38;5;241m.\u001b[39m_forward_hooks \u001b[38;5;129;01mor\u001b[39;00m \u001b[38;5;28mself\u001b[39m\u001b[38;5;241m.\u001b[39m_forward_pre_hooks\n\u001b[1;32m   1518\u001b[0m         \u001b[38;5;129;01mor\u001b[39;00m _global_backward_pre_hooks \u001b[38;5;129;01mor\u001b[39;00m _global_backward_hooks\n\u001b[1;32m   1519\u001b[0m         \u001b[38;5;129;01mor\u001b[39;00m _global_forward_hooks \u001b[38;5;129;01mor\u001b[39;00m _global_forward_pre_hooks):\n\u001b[0;32m-> 1520\u001b[0m     \u001b[38;5;28;01mreturn\u001b[39;00m \u001b[43mforward_call\u001b[49m\u001b[43m(\u001b[49m\u001b[38;5;241;43m*\u001b[39;49m\u001b[43margs\u001b[49m\u001b[43m,\u001b[49m\u001b[43m \u001b[49m\u001b[38;5;241;43m*\u001b[39;49m\u001b[38;5;241;43m*\u001b[39;49m\u001b[43mkwargs\u001b[49m\u001b[43m)\u001b[49m\n\u001b[1;32m   1522\u001b[0m \u001b[38;5;28;01mtry\u001b[39;00m:\n\u001b[1;32m   1523\u001b[0m     result \u001b[38;5;241m=\u001b[39m \u001b[38;5;28;01mNone\u001b[39;00m\n",
      "File \u001b[0;32m~/Desktop/Class Notes/Research/CSN/swissarmy_prev.py:228\u001b[0m, in \u001b[0;36mSeqModel.forward\u001b[0;34m(self, t_seq, one_hot_idx, t, pred_prev)\u001b[0m\n\u001b[1;32m    225\u001b[0m encoded \u001b[38;5;241m=\u001b[39m \u001b[38;5;28mself\u001b[39m\u001b[38;5;241m.\u001b[39mencoder(t_seq, one_hot_idx\u001b[38;5;241m=\u001b[39mone_hot_idx)\n\u001b[1;32m    227\u001b[0m \u001b[38;5;66;03m# Decoder step\u001b[39;00m\n\u001b[0;32m--> 228\u001b[0m decoded \u001b[38;5;241m=\u001b[39m \u001b[38;5;28;43mself\u001b[39;49m\u001b[38;5;241;43m.\u001b[39;49m\u001b[43mdecoder\u001b[49m\u001b[43m(\u001b[49m\u001b[43mt\u001b[49m\u001b[43m,\u001b[49m\u001b[43m \u001b[49m\u001b[43minput_embedding\u001b[49m\u001b[38;5;241;43m=\u001b[39;49m\u001b[43mencoded\u001b[49m\u001b[43m,\u001b[49m\u001b[43mpred_prev\u001b[49m\u001b[43m \u001b[49m\u001b[38;5;241;43m=\u001b[39;49m\u001b[43m \u001b[49m\u001b[43mpred_prev\u001b[49m\u001b[43m)\u001b[49m\n\u001b[1;32m    230\u001b[0m \u001b[38;5;66;03m# Output layers\u001b[39;00m\n\u001b[1;32m    231\u001b[0m mse_output \u001b[38;5;241m=\u001b[39m \u001b[38;5;28mself\u001b[39m\u001b[38;5;241m.\u001b[39mmse_head(decoded)\n",
      "File \u001b[0;32m~/opt/anaconda3/lib/python3.9/site-packages/torch/nn/modules/module.py:1511\u001b[0m, in \u001b[0;36mModule._wrapped_call_impl\u001b[0;34m(self, *args, **kwargs)\u001b[0m\n\u001b[1;32m   1509\u001b[0m     \u001b[38;5;28;01mreturn\u001b[39;00m \u001b[38;5;28mself\u001b[39m\u001b[38;5;241m.\u001b[39m_compiled_call_impl(\u001b[38;5;241m*\u001b[39margs, \u001b[38;5;241m*\u001b[39m\u001b[38;5;241m*\u001b[39mkwargs)  \u001b[38;5;66;03m# type: ignore[misc]\u001b[39;00m\n\u001b[1;32m   1510\u001b[0m \u001b[38;5;28;01melse\u001b[39;00m:\n\u001b[0;32m-> 1511\u001b[0m     \u001b[38;5;28;01mreturn\u001b[39;00m \u001b[38;5;28;43mself\u001b[39;49m\u001b[38;5;241;43m.\u001b[39;49m\u001b[43m_call_impl\u001b[49m\u001b[43m(\u001b[49m\u001b[38;5;241;43m*\u001b[39;49m\u001b[43margs\u001b[49m\u001b[43m,\u001b[49m\u001b[43m \u001b[49m\u001b[38;5;241;43m*\u001b[39;49m\u001b[38;5;241;43m*\u001b[39;49m\u001b[43mkwargs\u001b[49m\u001b[43m)\u001b[49m\n",
      "File \u001b[0;32m~/opt/anaconda3/lib/python3.9/site-packages/torch/nn/modules/module.py:1520\u001b[0m, in \u001b[0;36mModule._call_impl\u001b[0;34m(self, *args, **kwargs)\u001b[0m\n\u001b[1;32m   1515\u001b[0m \u001b[38;5;66;03m# If we don't have any hooks, we want to skip the rest of the logic in\u001b[39;00m\n\u001b[1;32m   1516\u001b[0m \u001b[38;5;66;03m# this function, and just call forward.\u001b[39;00m\n\u001b[1;32m   1517\u001b[0m \u001b[38;5;28;01mif\u001b[39;00m \u001b[38;5;129;01mnot\u001b[39;00m (\u001b[38;5;28mself\u001b[39m\u001b[38;5;241m.\u001b[39m_backward_hooks \u001b[38;5;129;01mor\u001b[39;00m \u001b[38;5;28mself\u001b[39m\u001b[38;5;241m.\u001b[39m_backward_pre_hooks \u001b[38;5;129;01mor\u001b[39;00m \u001b[38;5;28mself\u001b[39m\u001b[38;5;241m.\u001b[39m_forward_hooks \u001b[38;5;129;01mor\u001b[39;00m \u001b[38;5;28mself\u001b[39m\u001b[38;5;241m.\u001b[39m_forward_pre_hooks\n\u001b[1;32m   1518\u001b[0m         \u001b[38;5;129;01mor\u001b[39;00m _global_backward_pre_hooks \u001b[38;5;129;01mor\u001b[39;00m _global_backward_hooks\n\u001b[1;32m   1519\u001b[0m         \u001b[38;5;129;01mor\u001b[39;00m _global_forward_hooks \u001b[38;5;129;01mor\u001b[39;00m _global_forward_pre_hooks):\n\u001b[0;32m-> 1520\u001b[0m     \u001b[38;5;28;01mreturn\u001b[39;00m \u001b[43mforward_call\u001b[49m\u001b[43m(\u001b[49m\u001b[38;5;241;43m*\u001b[39;49m\u001b[43margs\u001b[49m\u001b[43m,\u001b[49m\u001b[43m \u001b[49m\u001b[38;5;241;43m*\u001b[39;49m\u001b[38;5;241;43m*\u001b[39;49m\u001b[43mkwargs\u001b[49m\u001b[43m)\u001b[49m\n\u001b[1;32m   1522\u001b[0m \u001b[38;5;28;01mtry\u001b[39;00m:\n\u001b[1;32m   1523\u001b[0m     result \u001b[38;5;241m=\u001b[39m \u001b[38;5;28;01mNone\u001b[39;00m\n",
      "File \u001b[0;32m~/Desktop/Class Notes/Research/CSN/swissarmy_prev.py:147\u001b[0m, in \u001b[0;36mSeqDecoder.forward\u001b[0;34m(self, t_seq, input_embedding, pred_prev)\u001b[0m\n\u001b[1;32m    145\u001b[0m \u001b[38;5;66;03m# Pass through each decoder layer, updating the input embedding\u001b[39;00m\n\u001b[1;32m    146\u001b[0m \u001b[38;5;28;01mfor\u001b[39;00m layer \u001b[38;5;129;01min\u001b[39;00m \u001b[38;5;28mself\u001b[39m\u001b[38;5;241m.\u001b[39mdecoder_layers:\n\u001b[0;32m--> 147\u001b[0m     x \u001b[38;5;241m=\u001b[39m \u001b[43mtorch\u001b[49m\u001b[38;5;241;43m.\u001b[39;49m\u001b[43mcat\u001b[49m\u001b[43m(\u001b[49m\u001b[43m(\u001b[49m\u001b[43mx\u001b[49m\u001b[43m,\u001b[49m\u001b[43m \u001b[49m\u001b[43mpred_prev\u001b[49m\u001b[43m)\u001b[49m\u001b[43m,\u001b[49m\u001b[43m \u001b[49m\u001b[43mdim\u001b[49m\u001b[38;5;241;43m=\u001b[39;49m\u001b[38;5;241;43m1\u001b[39;49m\u001b[43m)\u001b[49m\n\u001b[1;32m    148\u001b[0m     x \u001b[38;5;241m=\u001b[39m layer(t_seq, input_embedding\u001b[38;5;241m=\u001b[39mx)\n\u001b[1;32m    152\u001b[0m \u001b[38;5;28;01mreturn\u001b[39;00m x\n",
      "\u001b[0;31mRuntimeError\u001b[0m: Sizes of tensors must match except in dimension 1. Expected size 250 but got size 1 for tensor number 1 in the list."
     ]
    }
   ],
   "source": [
    "bce_output, mse_output = model(seq_inputs,file_idx,t_step,prev_target)\n",
    "print(bce_output.shape, mse_output.shape)"
   ]
  },
  {
   "cell_type": "code",
   "execution_count": null,
   "id": "68acd0b6-4bed-4fc9-bd9e-adc904bd42f1",
   "metadata": {},
   "outputs": [
    {
     "name": "stderr",
     "output_type": "stream",
     "text": [
      "Epoch 1/2:  46%|████████████▉               | 2588/5622 [16:29<18:31,  2.73it/s]"
     ]
    }
   ],
   "source": [
    "optimizer = optim.Adam(model.parameters(), lr=0.001)\n",
    "prev_target_list = []\n",
    "mse_loss_fn = nn.MSELoss()\n",
    "bce_loss_fn = nn.BCELoss()\n",
    "cdifb_loss = ConsecutiveDifferenceHigherOrderLossBatch(consecutive_size,order=3)\n",
    "cdif_loss = ConsecutiveDifferenceHigherOrderLoss(consecutive_size,order=3)\n",
    "\n",
    "num_epochs = 2\n",
    "\n",
    "# Training loop\n",
    "for epoch in range(num_epochs):\n",
    "    model.train()\n",
    "    \n",
    "    #for batch in dataloader:\n",
    "    for batch in tqdm(dataloader, desc=f\"Epoch {epoch+1}/{num_epochs}\"):\n",
    "        wav_data, t_step, target, file_idx, seq_inputs, prev_target = batch\n",
    "        \n",
    "        bce_output, mse_output = model(seq_inputs,file_idx,t_step,prev_target)\n",
    "        # Compute losses\n",
    "        mse_loss = mse_loss_fn(mse_output*target, wav_data)  # Assuming the target is for MSE # is this accomplishing what i want?\n",
    "        bce_loss = bce_loss_fn(bce_output, target)  # Assuming the target is for BCE\n",
    "        cdif = cdif_loss(mse_output*target, wav_data)\n",
    "        #bc = bc_loss(outputs, targets)\n",
    "        cdif_b = cdifb_loss(mse_output*target, wav_data)\n",
    "        \n",
    "        \n",
    "        # Combine losses (you can weight them if needed)\n",
    "        total_loss = 0.1*mse_loss + 0.1*bce_loss + 0.6*cdif  + 0.4*cdif_b #mess with mse\n",
    "        \n",
    "        # Backpropagation and optimization\n",
    "        optimizer.zero_grad()\n",
    "        total_loss.backward()\n",
    "        optimizer.step()\n",
    "        \n",
    "    # Print progress for each epoch\n",
    "    print(f\"Epoch {epoch+1}/{num_epochs} MSE: {mse_loss.item():.6f} BCE: {bce_loss.item():.6f} CDIF: {cdif.item():.6f}  Total Loss: {total_loss.item():.8f}\")\n",
    "    torch.save(model, \"new_model_2.pth\")\n",
    "print(\"all done sweetheart <3\")"
   ]
  },
  {
   "cell_type": "code",
   "execution_count": 59,
   "id": "cbdc714d-bcb3-4d4b-99f6-958f27675680",
   "metadata": {},
   "outputs": [
    {
     "data": {
      "text/plain": [
       "SeqModel(\n",
       "  (encoder): SeqEncoder(\n",
       "    (initial_layer): SwissArmyLayer(\n",
       "      (t_layers): ModuleList()\n",
       "      (embedding): Embedding(11, 40, padding_idx=10)\n",
       "      (layers): ModuleList(\n",
       "        (0-3): 4 x Linear(in_features=44, out_features=44, bias=True)\n",
       "      )\n",
       "    )\n",
       "    (encoder_layers): ModuleList(\n",
       "      (0): SwissArmyLayer(\n",
       "        (t_layers): ModuleList()\n",
       "        (embedding): Embedding(11, 40, padding_idx=10)\n",
       "        (layers): ModuleList(\n",
       "          (0-3): 4 x Linear(in_features=88, out_features=88, bias=True)\n",
       "        )\n",
       "      )\n",
       "      (1): SwissArmyLayer(\n",
       "        (t_layers): ModuleList()\n",
       "        (embedding): Embedding(11, 40, padding_idx=10)\n",
       "        (layers): ModuleList(\n",
       "          (0-3): 4 x Linear(in_features=132, out_features=132, bias=True)\n",
       "        )\n",
       "      )\n",
       "    )\n",
       "  )\n",
       "  (decoder): SeqDecoder(\n",
       "    (decoder_layers): ModuleList(\n",
       "      (0): SwissArmyLayer(\n",
       "        (t_layers): ModuleList(\n",
       "          (0): Linear(in_features=21, out_features=50, bias=True)\n",
       "        )\n",
       "        (layers): ModuleList(\n",
       "          (0-3): 4 x Linear(in_features=183, out_features=183, bias=True)\n",
       "        )\n",
       "      )\n",
       "      (1): SwissArmyLayer(\n",
       "        (t_layers): ModuleList(\n",
       "          (0): Linear(in_features=21, out_features=50, bias=True)\n",
       "        )\n",
       "        (layers): ModuleList(\n",
       "          (0-3): 4 x Linear(in_features=234, out_features=234, bias=True)\n",
       "        )\n",
       "      )\n",
       "      (2): SwissArmyLayer(\n",
       "        (t_layers): ModuleList(\n",
       "          (0): Linear(in_features=21, out_features=50, bias=True)\n",
       "        )\n",
       "        (layers): ModuleList(\n",
       "          (0-3): 4 x Linear(in_features=285, out_features=285, bias=True)\n",
       "        )\n",
       "      )\n",
       "    )\n",
       "  )\n",
       "  (mse_head): Sequential(\n",
       "    (0): Linear(in_features=285, out_features=64, bias=True)\n",
       "    (1): ReLU()\n",
       "    (2): Linear(in_features=64, out_features=64, bias=True)\n",
       "    (3): ReLU()\n",
       "    (4): Linear(in_features=64, out_features=64, bias=True)\n",
       "    (5): ReLU()\n",
       "    (6): Linear(in_features=64, out_features=64, bias=True)\n",
       "    (7): ReLU()\n",
       "    (8): Linear(in_features=64, out_features=1, bias=True)\n",
       "  )\n",
       "  (bce_head): Sequential(\n",
       "    (0): Linear(in_features=285, out_features=64, bias=True)\n",
       "    (1): ReLU()\n",
       "    (2): Linear(in_features=64, out_features=64, bias=True)\n",
       "    (3): ReLU()\n",
       "    (4): Linear(in_features=64, out_features=64, bias=True)\n",
       "    (5): ReLU()\n",
       "    (6): Linear(in_features=64, out_features=64, bias=True)\n",
       "    (7): ReLU()\n",
       "    (8): Linear(in_features=64, out_features=1, bias=True)\n",
       "    (9): Sigmoid()\n",
       "  )\n",
       ")"
      ]
     },
     "execution_count": 59,
     "metadata": {},
     "output_type": "execute_result"
    }
   ],
   "source": [
    "##i need inference and then a noise term for the training prev_pred input.  \n",
    "model = torch.load(\"new_model_2.pth\")\n",
    "model.eval()"
   ]
  },
  {
   "cell_type": "code",
   "execution_count": 60,
   "id": "7de49ab9-2a62-4d16-b5b0-36b15a8514e1",
   "metadata": {},
   "outputs": [
    {
     "name": "stdout",
     "output_type": "stream",
     "text": [
      "torch.Size([1, 1])\n"
     ]
    }
   ],
   "source": [
    "\n",
    "input_seq_t = seq_t\n",
    "input_seq_t = input_seq_t.unsqueeze(0)\n",
    "\n",
    "digits = \"1\"\n",
    "input_seq_t[len(digits):] = 0\n",
    "\n",
    "file = [int(char) for char in digits] \n",
    "\n",
    "\n",
    "\n",
    "file = file + [10] * (2 - len(file))\n",
    "file = torch.tensor(file)\n",
    "file = file.unsqueeze(0)\n",
    "\n",
    "\n",
    "\n",
    "\n",
    "prev_target = torch.tensor([[0.0]*pred_prev])  #this is where it statrs.  \n",
    "print(prev_target.shape)\n",
    "\n",
    "#this gets incremented:\n",
    "t_input_eval = t_input[0]\n",
    "t_input_eval = t_input_eval.unsqueeze(0)"
   ]
  },
  {
   "cell_type": "code",
   "execution_count": 61,
   "id": "2cf2ae3b-cd12-4a1f-bfa7-c7a056ac3cb8",
   "metadata": {},
   "outputs": [
    {
     "data": {
      "text/plain": [
       "torch.Size([100000, 21])"
      ]
     },
     "execution_count": 61,
     "metadata": {},
     "output_type": "execute_result"
    }
   ],
   "source": [
    "t_input.shape"
   ]
  },
  {
   "cell_type": "code",
   "execution_count": 62,
   "id": "8af6ae5d-a7b8-4440-8c8f-7bdffb7ea8df",
   "metadata": {},
   "outputs": [
    {
     "data": {
      "text/plain": [
       "(tensor([[0.5077]], grad_fn=<SigmoidBackward0>),\n",
       " tensor([[0.0002]], grad_fn=<AddmmBackward0>))"
      ]
     },
     "execution_count": 62,
     "metadata": {},
     "output_type": "execute_result"
    }
   ],
   "source": [
    "cont_output, wave_output = model(input_seq_t,file,t_input_eval,prev_target)\n",
    "cont_output, wave_output"
   ]
  },
  {
   "cell_type": "code",
   "execution_count": 63,
   "id": "ffa4a0fd-e789-4a14-a255-01d7b48fd536",
   "metadata": {},
   "outputs": [],
   "source": [
    "def sequential_inf(digits,pred_prev,seq_t,t_input,model,num_inferences = 10_000):\n",
    "    model.eval()\n",
    "    #encode the sequence:\n",
    "    file = [int(char) for char in digits] \n",
    "    file = file + [10] * (2 - len(file))\n",
    "    file = torch.tensor(file)\n",
    "    file = file.unsqueeze(0)\n",
    "\n",
    "    #encoder t\n",
    "    input_seq_t = seq_t\n",
    "    input_seq_t = input_seq_t.unsqueeze(0)\n",
    "    input_seq_t[len(digits):] = 0\n",
    "\n",
    "    #initial prev\n",
    "    prev_target = torch.tensor([[0.0]*pred_prev]) \n",
    "\n",
    "    \n",
    "    mse_output = torch.zeros(num_inferences, 1)  # Shape (batch, 1)\n",
    "    bce_output = torch.zeros(num_inferences, 1) \n",
    "    \n",
    "    for i in range(num_inferences):\n",
    "        #print(i)\n",
    "        t_input_eval = t_input[i]\n",
    "        t_input_eval = t_input_eval.unsqueeze(0)\n",
    "        \n",
    "        cont_output, wave_output = model(input_seq_t,file,t_input_eval,prev_target)\n",
    "        \n",
    "        mse_output[i, 0] = wave_output.item()  # Assuming wave_output is a tensor of shape (1, 1)\n",
    "        bce_output[i, 0] = cont_output.item() \n",
    "        \n",
    "        prev_target = torch.cat((prev_target,wave_output),dim = -1)\n",
    "        prev_target = prev_target[:,1:]\n",
    "\n",
    "    return bce_output, mse_output  \n",
    "    "
   ]
  },
  {
   "cell_type": "code",
   "execution_count": 79,
   "id": "be7b4622-2dee-495b-917a-e107ac67c602",
   "metadata": {},
   "outputs": [],
   "source": [
    "b,m = sequential_inf(\"5\",pred_prev,seq_t,t_input,model)"
   ]
  },
  {
   "cell_type": "code",
   "execution_count": 80,
   "id": "618ed204-8fb0-486e-8591-a7c3b784c334",
   "metadata": {},
   "outputs": [
    {
     "data": {
      "text/plain": [
       "torch.Size([10000, 1])"
      ]
     },
     "execution_count": 80,
     "metadata": {},
     "output_type": "execute_result"
    }
   ],
   "source": [
    "m.shape"
   ]
  },
  {
   "cell_type": "code",
   "execution_count": 81,
   "id": "7e405a9e-cb7c-4bc4-8fac-15c86e44e6bf",
   "metadata": {},
   "outputs": [
    {
     "data": {
      "image/png": "[encoded data removed]",
      "text/plain": [
       "<Figure size 720x576 with 2 Axes>"
      ]
     },
     "metadata": {
      "needs_background": "light"
     },
     "output_type": "display_data"
    }
   ],
   "source": [
    "import matplotlib.pyplot as plt\n",
    "\n",
    "def plot_outputs(bce_output, mse_output):\n",
    "    # Create a figure with two subplots\n",
    "    fig, axs = plt.subplots(2, 1, figsize=(10, 8))\n",
    "\n",
    "    # Plot BCE output\n",
    "    axs[0].plot(bce_output.numpy(), label='BCE Output', color='blue', linewidth=1)\n",
    "    axs[0].set_title('BCE Output over Inferences')\n",
    "    axs[0].set_xlabel('Inference Index')\n",
    "    axs[0].set_ylabel('BCE Value')\n",
    "    axs[0].grid()\n",
    "    axs[0].legend()\n",
    "\n",
    "    # Plot MSE output\n",
    "    axs[1].plot(mse_output.numpy(), label='MSE Output', color='orange', linewidth=1)\n",
    "    axs[1].set_title('MSE Output over Inferences')\n",
    "    axs[1].set_xlabel('Inference Index')\n",
    "    axs[1].set_ylabel('MSE Value')\n",
    "    axs[1].grid()\n",
    "    axs[1].legend()\n",
    "\n",
    "    # Adjust layout and show the plots\n",
    "    plt.tight_layout()\n",
    "    plt.show()\n",
    "\n",
    "plot_outputs(b, m)\n"
   ]
  },
  {
   "cell_type": "code",
   "execution_count": 82,
   "id": "2eb58971-6449-4300-b20e-b1d18d665beb",
   "metadata": {},
   "outputs": [
    {
     "data": {
      "text/plain": [
       "24000"
      ]
     },
     "execution_count": 82,
     "metadata": {},
     "output_type": "execute_result"
    }
   ],
   "source": [
    "from scipy.io import wavfile\n",
    "file_path = 'digits_multiple/000.wav'\n",
    "sample_rate, data_test = wavfile.read(file_path)\n",
    "sample_rate"
   ]
  },
  {
   "cell_type": "code",
   "execution_count": 83,
   "id": "6c6990f1-3c3a-4d79-b5eb-be32afcc3da0",
   "metadata": {},
   "outputs": [],
   "source": [
    "import torch\n",
    "import numpy as np\n",
    "from scipy.io.wavfile import write\n",
    "\n",
    "\n",
    "def tensor_to_wav(tensor, filename, sample_rate=44100,cut_off=-1 ):\n",
    "    # Convert tensor to numpy array and detach if needed\n",
    "    data = tensor.detach().cpu().numpy()[:cut_off]\n",
    "    # Normalize to the range [-1, 1]\n",
    "    #data = data / np.max(np.abs(data))\n",
    "\n",
    "    # Convert to 16-bit PCM format (values between -32768 and 32767)\n",
    "    data_int16 = np.int16(data * 32768)\n",
    "\n",
    "    # Write the .wav file\n",
    "    write(filename, sample_rate, data_int16)\n",
    "    print(f\"Saved as {filename}\")\n",
    "\n"
   ]
  },
  {
   "cell_type": "code",
   "execution_count": 84,
   "id": "df8f3ed8-55f2-4153-8b18-0daa361bb3fc",
   "metadata": {},
   "outputs": [
    {
     "name": "stdout",
     "output_type": "stream",
     "text": [
      "Saved as first_out_1.wav\n"
     ]
    }
   ],
   "source": [
    "# Example usage with your model predictions (assuming predictions are in range -1 to 1):\n",
    "# predictions is the output tensor from the model\n",
    "tensor_to_wav(m, \"first_out_1.wav\",sample_rate)"
   ]
  },
  {
   "cell_type": "code",
   "execution_count": 85,
   "id": "53d4306c-1aa7-4215-81f2-07abb962c08c",
   "metadata": {},
   "outputs": [
    {
     "data": {
      "text/html": [
       "\n",
       "                <audio  controls=\"controls\" >\n",
       "                    <source src=\"data:audio/x-wav;base64,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\" type=\"audio/x-wav\" />\n",
       "                    Your browser does not support the audio element.\n",
       "                </audio>\n",
       "              "
      ],
      "text/plain": [
       "<IPython.lib.display.Audio object>"
      ]
     },
     "execution_count": 85,
     "metadata": {},
     "output_type": "execute_result"
    }
   ],
   "source": [
    "from IPython.display import Audio\n",
    "\n",
    "# Play the .wav file\n",
    "Audio(\"first_out_1.wav\")"
   ]
  },
  {
   "cell_type": "code",
   "execution_count": null,
   "id": "856a4bd1-7e49-4755-b56d-a4669803fc04",
   "metadata": {},
   "outputs": [],
   "source": []
  }
 ],
 "metadata": {
  "kernelspec": {
   "display_name": "Python 3 (ipykernel)",
   "language": "python",
   "name": "python3"
  },
  "language_info": {
   "codemirror_mode": {
    "name": "ipython",
    "version": 3
   },
   "file_extension": ".py",
   "mimetype": "text/x-python",
   "name": "python",
   "nbconvert_exporter": "python",
   "pygments_lexer": "ipython3",
   "version": "3.9.12"
  }
 },
 "nbformat": 4,
 "nbformat_minor": 5
}
