{
 "cells": [
  {
   "cell_type": "code",
   "execution_count": 2,
   "id": "b9841eb4",
   "metadata": {},
   "outputs": [],
   "source": [
    "import torch.nn as nn\n",
    "import torch"
   ]
  },
  {
   "cell_type": "code",
   "execution_count": 10,
   "id": "bccb3893",
   "metadata": {},
   "outputs": [],
   "source": [
    "class ConsecutiveDifferenceLossAndBatch(nn.Module):\n",
    "    def __init__(self, consecutive_size):\n",
    "        super(ConsecutiveDifferenceLossAndBatch, self).__init__()\n",
    "        self.consecutive_size = consecutive_size\n",
    "\n",
    "    def forward(self, prediction, target):\n",
    "        pred_reshape = prediction.view(-1, self.consecutive_size)\n",
    "        target_reshape = target.view(-1, self.consecutive_size)\n",
    "        pred_dif = pred_reshape[:, 1:] - pred_reshape[:, :-1]\n",
    "        target_dif = target_reshape[:, 1:] - target_reshape[:, :-1]\n",
    "        \n",
    "        pred_dif_batch = pred_reshape[1:, :] - pred_reshape[:-1, :]\n",
    "        target_dif_batch = target_reshape[1:, :] - target_reshape[:-1, :]\n",
    "        \n",
    "        consec_loss = torch.mean((pred_dif - target_dif) ** 2)\n",
    "        batch_loss = torch.mean((pred_dif_batch - target_dif_batch) ** 2)\n",
    "        \n",
    "        return consec_loss + batch_loss"
   ]
  },
  {
   "cell_type": "code",
   "execution_count": 30,
   "id": "494b019f",
   "metadata": {},
   "outputs": [],
   "source": [
    "class ConsecutiveSlopeWeightedMSELoss(nn.Module):\n",
    "    def __init__(self, consecutive_size):\n",
    "        super(ConsecutiveSlopeWeightedMSELoss, self).__init__()\n",
    "        \"\"\"this is just mse weighted by how different the slope before and after the point is\"\"\"\n",
    "        self.consecutive_size = consecutive_size\n",
    "\n",
    "    def forward(self, prediction, target):\n",
    "        pred_reshape = prediction.view(-1, self.consecutive_size)\n",
    "        target_reshape = target.view(-1, self.consecutive_size)\n",
    "        #pred_dif = pred_reshape[:, 1:] - pred_reshape[:, :-1]\n",
    "        target_slope = target_reshape[:, 1:] - target_reshape[:, :-1]\n",
    "        \n",
    "        target_slope_dif = target_slope[:, 1:] - target_slope[:, :-1]\n",
    "        \n",
    "        \n",
    "        errors = pred_reshape[:,1:-1] - target_reshape[:,1:-1]\n",
    "        \n",
    "        return torch.mean(target_slope_dif **2 * errors **2)\n",
    "    "
   ]
  },
  {
   "cell_type": "code",
   "execution_count": 31,
   "id": "2bde70da",
   "metadata": {},
   "outputs": [
    {
     "data": {
      "text/plain": [
       "tensor(19.3308)"
      ]
     },
     "execution_count": 31,
     "metadata": {},
     "output_type": "execute_result"
    }
   ],
   "source": [
    "batch_size = 4\n",
    "consecutive_size = 5\n",
    "\n",
    "# Randomly generated data to simulate predictions and targets\n",
    "prediction = torch.randn(batch_size, consecutive_size)\n",
    "target = torch.randn(batch_size, consecutive_size)\n",
    "\n",
    "# Instantiate the loss function\n",
    "loss_fn = ConsecutiveSlopeWeightedMSELoss(consecutive_size)\n",
    "\n",
    "# Calculate the loss\n",
    "loss = loss_fn(prediction, target)\n",
    "loss"
   ]
  },
  {
   "cell_type": "code",
   "execution_count": 9,
   "id": "a85cbd74",
   "metadata": {},
   "outputs": [
    {
     "data": {
      "text/plain": [
       "(tensor([[ 0.5290,  0.2795, -0.0702,  0.5486, -1.1225],\n",
       "         [-0.3446,  1.5929, -0.1428,  0.4850, -0.2112],\n",
       "         [-0.4401, -0.2580, -0.4857, -0.9856, -1.0039],\n",
       "         [ 0.8572, -0.7022,  2.3131,  0.0054,  0.9092]]),\n",
       " tensor([[-0.6925, -0.7514,  0.0041, -2.1649, -2.2122],\n",
       "         [ 0.5277, -0.0382, -0.7986, -0.0239, -0.0115],\n",
       "         [-0.6821, -0.3912,  0.0806, -0.6225,  0.0597],\n",
       "         [ 0.2659, -0.5664, -0.4192, -0.9368,  0.0898]]))"
      ]
     },
     "execution_count": 9,
     "metadata": {},
     "output_type": "execute_result"
    }
   ],
   "source": [
    "prediction,target"
   ]
  },
  {
   "cell_type": "code",
   "execution_count": null,
   "id": "65e4a1a9",
   "metadata": {},
   "outputs": [],
   "source": []
  }
 ],
 "metadata": {
  "kernelspec": {
   "display_name": "Python 3 (ipykernel)",
   "language": "python",
   "name": "python3"
  },
  "language_info": {
   "codemirror_mode": {
    "name": "ipython",
    "version": 3
   },
   "file_extension": ".py",
   "mimetype": "text/x-python",
   "name": "python",
   "nbconvert_exporter": "python",
   "pygments_lexer": "ipython3",
   "version": "3.9.12"
  }
 },
 "nbformat": 4,
 "nbformat_minor": 5
}
