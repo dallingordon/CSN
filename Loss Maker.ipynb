{
 "cells": [
  {
   "cell_type": "code",
   "execution_count": 1,
   "id": "b9841eb4",
   "metadata": {},
   "outputs": [],
   "source": [
    "import torch.nn as nn\n",
    "import torch"
   ]
  },
  {
   "cell_type": "code",
   "execution_count": 2,
   "id": "bccb3893",
   "metadata": {},
   "outputs": [],
   "source": [
    "class ConsecutiveDifferenceLossAndBatch(nn.Module):\n",
    "    def __init__(self, consecutive_size):\n",
    "        super(ConsecutiveDifferenceLossAndBatch, self).__init__()\n",
    "        self.consecutive_size = consecutive_size\n",
    "\n",
    "    def forward(self, prediction, target):\n",
    "        pred_reshape = prediction.view(-1, self.consecutive_size)\n",
    "        target_reshape = target.view(-1, self.consecutive_size)\n",
    "        pred_dif = pred_reshape[:, 1:] - pred_reshape[:, :-1]\n",
    "        target_dif = target_reshape[:, 1:] - target_reshape[:, :-1]\n",
    "        \n",
    "        pred_dif_batch = pred_reshape[1:, :] - pred_reshape[:-1, :]\n",
    "        target_dif_batch = target_reshape[1:, :] - target_reshape[:-1, :]\n",
    "        \n",
    "        consec_loss = torch.mean((pred_dif - target_dif) ** 2)\n",
    "        batch_loss = torch.mean((pred_dif_batch - target_dif_batch) ** 2)\n",
    "        \n",
    "        return consec_loss + batch_loss"
   ]
  },
  {
   "cell_type": "code",
   "execution_count": 3,
   "id": "494b019f",
   "metadata": {},
   "outputs": [],
   "source": [
    "class ConsecutiveSlopeWeightedMSELoss(nn.Module):\n",
    "    def __init__(self, consecutive_size):\n",
    "        super(ConsecutiveSlopeWeightedMSELoss, self).__init__()\n",
    "        \"\"\"this is just mse weighted by how different the slope before and after the point is\"\"\"\n",
    "        self.consecutive_size = consecutive_size\n",
    "\n",
    "    def forward(self, prediction, target):\n",
    "        pred_reshape = prediction.view(-1, self.consecutive_size)\n",
    "        target_reshape = target.view(-1, self.consecutive_size)\n",
    "        #pred_dif = pred_reshape[:, 1:] - pred_reshape[:, :-1]\n",
    "        target_slope = target_reshape[:, 1:] - target_reshape[:, :-1]\n",
    "        \n",
    "        target_slope_dif = target_slope[:, 1:] - target_slope[:, :-1]\n",
    "        \n",
    "        \n",
    "        errors = pred_reshape[:,1:-1] - target_reshape[:,1:-1]\n",
    "        \n",
    "        return torch.mean(target_slope_dif **2 * errors **2)\n",
    "    "
   ]
  },
  {
   "cell_type": "code",
   "execution_count": 82,
   "id": "e353959e",
   "metadata": {},
   "outputs": [],
   "source": [
    "class ConsecutiveBorderCrossingAbs(nn.Module):\n",
    "    def __init__(self, consecutive_size, temperature = 1.0):\n",
    "        super(ConsecutiveBorderCrossingAbs, self).__init__()\n",
    "        \"\"\"just looks at where it crosses zero, also, do i even need tanh?\"\"\"\n",
    "        self.consecutive_size = consecutive_size\n",
    "        self.bce_loss = nn.BCELoss()\n",
    "        self.temp = temperature\n",
    "\n",
    "    def forward(self, prediction, target):\n",
    "        pred_reshape = prediction.view(-1, self.consecutive_size)\n",
    "        target_reshape = target.view(-1, self.consecutive_size)\n",
    "        target_sign_tensor = torch.sign(target_reshape)\n",
    "        target_sign_diff = (target_sign_tensor[:,1:] - target_sign_tensor[:,:-1])/2 #-1,0,and 1 only\n",
    "        target_sign_diff = (target_sign_diff + 1)/2 #bce ready\n",
    "        \n",
    "        pred_abs = torch.abs(pred_reshape)\n",
    "        pred_sign_reshape = pred_reshape/pred_abs\n",
    "        pred_sign_dif = pred_sign_reshape[:,1:] - pred_sign_reshape[:,:-1] #-2,0,2\n",
    "        tan_pred = torch.tanh(self.temp * pred_sign_dif)\n",
    "        bce_ready_pred = (tan_pred + 1)/2\n",
    "        loss = self.bce_loss(bce_ready_pred,target_sign_diff)\n",
    "        \n",
    "        return loss\n",
    "    \n",
    "class ConsecutiveBorderCrossingAbs(nn.Module):\n",
    "    def __init__(self, consecutive_size, temperature = 1.0):\n",
    "        super(ConsecutiveBorderCrossingAbs, self).__init__()\n",
    "        \"\"\"just looks at where it crosses zero, also, do i even need tanh?\"\"\"\n",
    "        self.consecutive_size = consecutive_size\n",
    "        self.bce_loss = nn.BCELoss()\n",
    "        self.temp = temperature\n",
    "\n",
    "    def forward(self, prediction, target):\n",
    "        pred_reshape = prediction.view(-1, self.consecutive_size)\n",
    "        target_reshape = target.view(-1, self.consecutive_size)\n",
    "        target_sign_tensor = torch.sign(target_reshape)\n",
    "        target_sign_diff = (target_sign_tensor[:,1:] - target_sign_tensor[:,:-1])/2 #-1,0,and 1 only\n",
    "        target_sign_diff = (target_sign_diff + 1)/2 #bce ready\n",
    "        \n",
    "        pred_abs = torch.abs(pred_reshape)\n",
    "        pred_sign_reshape = pred_reshape/pred_abs\n",
    "        pred_sign_dif = pred_sign_reshape[:,1:] - pred_sign_reshape[:,:-1] #-2,0,2\n",
    "        tan_pred = torch.tanh(self.temp * pred_sign_dif)\n",
    "        bce_ready_pred = (tan_pred + 1)/2\n",
    "        loss = self.bce_loss(bce_ready_pred,target_sign_diff)\n",
    "        \n",
    "        return loss"
   ]
  },
  {
   "cell_type": "code",
   "execution_count": 4,
   "id": "2bde70da",
   "metadata": {},
   "outputs": [
    {
     "data": {
      "text/plain": [
       "tensor(20.7150)"
      ]
     },
     "execution_count": 4,
     "metadata": {},
     "output_type": "execute_result"
    }
   ],
   "source": [
    "batch_size = 4\n",
    "consecutive_size = 5\n",
    "\n",
    "# Randomly generated data to simulate predictions and targets\n",
    "prediction = torch.randn(batch_size, consecutive_size)\n",
    "target = torch.randn(batch_size, consecutive_size)\n",
    "\n",
    "# Instantiate the loss function\n",
    "loss_fn = ConsecutiveSlopeWeightedMSELoss(consecutive_size)\n",
    "\n",
    "# Calculate the loss\n",
    "loss = loss_fn(prediction, target)\n",
    "loss"
   ]
  },
  {
   "cell_type": "code",
   "execution_count": 5,
   "id": "a85cbd74",
   "metadata": {},
   "outputs": [
    {
     "data": {
      "text/plain": [
       "(tensor([[ 0.8797, -0.3001,  1.5628, -0.2552, -2.6651],\n",
       "         [ 2.0286,  0.2365, -0.1973,  1.5550, -0.2282],\n",
       "         [-0.8787, -0.5304, -2.1451,  1.5823,  1.1772],\n",
       "         [ 0.4714, -0.3693, -0.7140, -1.7759,  1.1688]]),\n",
       " tensor([[-0.8183,  0.3714, -2.1213, -0.6426, -0.8406],\n",
       "         [-0.0229, -0.6064, -0.2235,  1.0801,  0.4553],\n",
       "         [ 0.1327, -1.4317, -0.2237,  1.0804,  1.3824],\n",
       "         [ 0.9487,  1.6239,  0.1116, -0.8401, -0.8859]]))"
      ]
     },
     "execution_count": 5,
     "metadata": {},
     "output_type": "execute_result"
    }
   ],
   "source": [
    "prediction,target"
   ]
  },
  {
   "cell_type": "code",
   "execution_count": 53,
   "id": "a3dffb18",
   "metadata": {},
   "outputs": [
    {
     "name": "stdout",
     "output_type": "stream",
     "text": [
      "tensor([[-0.8183,  0.3714, -2.1213, -0.6426, -0.8406],\n",
      "        [-0.0229, -0.6064, -0.2235,  1.0801,  0.4553],\n",
      "        [ 0.1327, -1.4317, -0.2237,  1.0804,  1.3824],\n",
      "        [ 0.9487,  1.6239,  0.1116, -0.8401, -0.8859]])\n"
     ]
    },
    {
     "data": {
      "text/plain": [
       "(tensor([[-1.,  1., -1., -1., -1.],\n",
       "         [-1., -1., -1.,  1.,  1.],\n",
       "         [ 1., -1., -1.,  1.,  1.],\n",
       "         [ 1.,  1.,  1., -1., -1.]]),\n",
       " tensor([[ 1., -1.,  0.,  0.],\n",
       "         [ 0.,  0.,  1.,  0.],\n",
       "         [-1.,  0.,  1.,  0.],\n",
       "         [ 0.,  0., -1.,  0.]]))"
      ]
     },
     "execution_count": 53,
     "metadata": {},
     "output_type": "execute_result"
    }
   ],
   "source": [
    "\n",
    "target_reshape = target.view(-1, consecutive_size)\n",
    "print(target_reshape)\n",
    "sign_tensor = torch.sign(target_reshape)\n",
    "    \n",
    "    # Compute the difference between adjacent sign elements\n",
    "sign_diff = sign_tensor[:,1:] - sign_tensor[:,:-1]\n",
    "sign_tensor,sign_diff/2"
   ]
  },
  {
   "cell_type": "code",
   "execution_count": 52,
   "id": "045adf44",
   "metadata": {},
   "outputs": [
    {
     "data": {
      "text/plain": [
       "tensor([[ 9.9941e-01, -9.9941e-01,  2.6226e-06, -2.5630e-06],\n",
       "        [-3.8765e-01,  1.1313e-02,  9.8868e-01, -1.1092e-04],\n",
       "        [-9.3426e-01,  1.1274e-02,  9.8873e-01,  0.0000e+00],\n",
       "        [ 0.0000e+00, -9.6855e-02, -9.0314e-01, -2.9802e-08]])"
      ]
     },
     "execution_count": 52,
     "metadata": {},
     "output_type": "execute_result"
    }
   ],
   "source": [
    "tan_targets = torch.tanh(10*target_reshape)\n",
    "tan_dif = tan_targets[:,1:] - tan_targets[:,:-1]\n",
    "tan_dif/2"
   ]
  },
  {
   "cell_type": "code",
   "execution_count": 81,
   "id": "2a112914",
   "metadata": {},
   "outputs": [
    {
     "data": {
      "text/plain": [
       "tensor(0.4400)"
      ]
     },
     "execution_count": 81,
     "metadata": {},
     "output_type": "execute_result"
    }
   ],
   "source": [
    "c = ConsecutiveBorderCrossingAbs(consecutive_size,temperature = 1.0)\n",
    "c(target,target)"
   ]
  },
  {
   "cell_type": "code",
   "execution_count": 22,
   "id": "65e4a1a9",
   "metadata": {},
   "outputs": [],
   "source": [
    "class ConsecutiveDifferenceHigherOrderLoss(nn.Module):\n",
    "    def __init__(self, consecutive_size,order=1):\n",
    "        super(ConsecutiveDifferenceHigherOrderLoss, self).__init__()\n",
    "        self.consecutive_size = consecutive_size\n",
    "        self.order = order\n",
    "    def forward(self, prediction, target):\n",
    "        pred_reshape = prediction.view(-1, self.consecutive_size)\n",
    "        target_reshape = target.view(-1, self.consecutive_size)\n",
    "        result = torch.tensor([0.0])\n",
    "        \n",
    "        pred_a = pred_reshape[:, 1:]\n",
    "        pred_b = pred_reshape[:, :-1]\n",
    "        target_a = target_reshape[:, 1:]\n",
    "        target_b = target_reshape[:, :-1]\n",
    "        for i in range(self.order):\n",
    "            print(i)\n",
    "            pred_dif = pred_a - pred_b\n",
    "            target_dif = target_a - target_b\n",
    "            pred_a = pred_dif[:, 1:]\n",
    "            pred_b = pred_dif[:, :-1]\n",
    "            target_a = target_dif[:, 1:]\n",
    "            target_b = target_dif[:, :-1]\n",
    "            \n",
    "            result +=  torch.mean((pred_dif - target_dif) ** 2)\n",
    "        return result"
   ]
  },
  {
   "cell_type": "code",
   "execution_count": 33,
   "id": "bfb35640",
   "metadata": {},
   "outputs": [],
   "source": [
    "class ConsecutiveDifferenceHigherOrderLossBatch(nn.Module):\n",
    "    def __init__(self, consecutive_size,order=1):\n",
    "        super(ConsecutiveDifferenceHigherOrderLossBatch, self).__init__()\n",
    "        self.consecutive_size = consecutive_size\n",
    "        self.order = order\n",
    "    def forward(self, prediction, target):\n",
    "        pred_reshape = prediction.view(-1, self.consecutive_size)\n",
    "        target_reshape = target.view(-1, self.consecutive_size)\n",
    "        result = torch.tensor([0.0])\n",
    "        \n",
    "        pred_a = pred_reshape[ 1:, :]\n",
    "        pred_b = pred_reshape[:-1,:]\n",
    "        target_a = target_reshape[ 1:, :]\n",
    "        target_b = target_reshape[:-1,:]\n",
    "        for i in range(self.order):\n",
    "            print(i)\n",
    "            pred_dif = pred_a - pred_b\n",
    "            target_dif = target_a - target_b\n",
    "            pred_a = pred_dif[ 1:, :]\n",
    "            pred_b = pred_dif[:-1,:]\n",
    "            target_a = target_dif[ 1:, :]\n",
    "            target_b = target_dif[:-1,:]\n",
    "            \n",
    "            result +=  torch.mean((pred_dif - target_dif) ** 2) /self.order\n",
    "        return result"
   ]
  },
  {
   "cell_type": "code",
   "execution_count": 34,
   "id": "87ef60e3",
   "metadata": {},
   "outputs": [
    {
     "name": "stdout",
     "output_type": "stream",
     "text": [
      "0\n",
      "1\n",
      "2\n"
     ]
    },
    {
     "data": {
      "text/plain": [
       "tensor([15.9454])"
      ]
     },
     "execution_count": 34,
     "metadata": {},
     "output_type": "execute_result"
    }
   ],
   "source": [
    "loss_fn = ConsecutiveDifferenceHigherOrderLossBatch(consecutive_size,order=3)\n",
    "\n",
    "# Calculate the loss\n",
    "loss = loss_fn(prediction, target)\n",
    "loss"
   ]
  },
  {
   "cell_type": "code",
   "execution_count": 6,
   "id": "d4a067c5",
   "metadata": {},
   "outputs": [
    {
     "ename": "NameError",
     "evalue": "name 'ConsecutiveSlopeWeightedMSELoss' is not defined",
     "output_type": "error",
     "traceback": [
      "\u001b[0;31m---------------------------------------------------------------------------\u001b[0m",
      "\u001b[0;31mNameError\u001b[0m                                 Traceback (most recent call last)",
      "Input \u001b[0;32mIn [6]\u001b[0m, in \u001b[0;36m<cell line: 9>\u001b[0;34m()\u001b[0m\n\u001b[1;32m      6\u001b[0m target \u001b[38;5;241m=\u001b[39m torch\u001b[38;5;241m.\u001b[39mrandn(batch_size, consecutive_size)\n\u001b[1;32m      8\u001b[0m \u001b[38;5;66;03m# Instantiate the loss function\u001b[39;00m\n\u001b[0;32m----> 9\u001b[0m loss_fn \u001b[38;5;241m=\u001b[39m \u001b[43mConsecutiveSlopeWeightedMSELoss\u001b[49m(consecutive_size)\n\u001b[1;32m     11\u001b[0m \u001b[38;5;66;03m# Calculate the loss\u001b[39;00m\n\u001b[1;32m     12\u001b[0m loss \u001b[38;5;241m=\u001b[39m loss_fn(prediction, target)\n",
      "\u001b[0;31mNameError\u001b[0m: name 'ConsecutiveSlopeWeightedMSELoss' is not defined"
     ]
    }
   ],
   "source": [
    "batch_size = 4\n",
    "consecutive_size = 5\n",
    "\n",
    "# Randomly generated data to simulate predictions and targets\n",
    "prediction = torch.randn(batch_size, consecutive_size)\n",
    "target = torch.randn(batch_size, consecutive_size)\n",
    "\n",
    "# Instantiate the loss function\n",
    "loss_fn = ConsecutiveSlopeWeightedMSELoss(consecutive_size)\n",
    "\n",
    "# Calculate the loss\n",
    "loss = loss_fn(prediction, target)\n",
    "loss"
   ]
  },
  {
   "cell_type": "code",
   "execution_count": null,
   "id": "42f7d6ee",
   "metadata": {},
   "outputs": [],
   "source": []
  }
 ],
 "metadata": {
  "kernelspec": {
   "display_name": "Python 3 (ipykernel)",
   "language": "python",
   "name": "python3"
  },
  "language_info": {
   "codemirror_mode": {
    "name": "ipython",
    "version": 3
   },
   "file_extension": ".py",
   "mimetype": "text/x-python",
   "name": "python",
   "nbconvert_exporter": "python",
   "pygments_lexer": "ipython3",
   "version": "3.9.12"
  }
 },
 "nbformat": 4,
 "nbformat_minor": 5
}
