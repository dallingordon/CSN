{
 "cells": [
  {
   "cell_type": "code",
   "execution_count": 13,
   "id": "2b3a3217",
   "metadata": {},
   "outputs": [],
   "source": [
    "import torch\n",
    "import torch.nn as nn\n",
    "import matplotlib.pyplot as plt\n",
    "import numpy as np\n",
    "import torch.nn.functional as F\n",
    "\n",
    "import torch\n",
    "\n",
    "class TriangularWaveFunction(torch.autograd.Function):\n",
    "    @staticmethod\n",
    "    def forward(ctx, t):\n",
    "        # Save context for backward computation\n",
    "        ctx.save_for_backward(t)\n",
    "        return 2 * torch.abs(2 * ( t - torch.floor((t + 0.5))) ) - 1\n",
    "\n",
    "    @staticmethod\n",
    "    def backward(ctx, grad_output):\n",
    "        t, = ctx.saved_tensors\n",
    "        # Compute the gradient using the square_wave function\n",
    "        grad_input = grad_output * (-2 * (torch.floor(2*t ) % 2) + 1)\n",
    "        return grad_input\n",
    "\n",
    "def triangular_wave(t):\n",
    "    return TriangularWaveFunction.apply(t)\n",
    "\n",
    "torch.triangular_wave = triangular_wave\n",
    "\n",
    "\n",
    "##next i want to add phi with the triangle wave and see if that works. just do phi and amplitude?!\n",
    "#init? should the amplitudes be increasing or anything like that? what happens when your amplitude descreases? is that interesting?\n",
    "\n",
    "\n",
    "class CustomSinLayer(nn.Module):\n",
    "    def __init__(self,e=0.001):\n",
    "        super(CustomSinLayer, self).__init__()\n",
    "        # Initialize the parameters\n",
    "        \n",
    "        self.add_param = nn.Parameter(torch.randn(1))  # Parameter to be added\n",
    "        #self.mul_param = nn.Parameter(torch.randn(1))  # Parameter to be multiplied\n",
    "        self.amplitude = nn.Parameter(torch.randn(1))\n",
    "        self.e = e\n",
    "    def forward(self, x):\n",
    "        # Apply the parameters to the input and then the sin function\n",
    "        #f = self.mul_param  #**2 + self.e\n",
    "        out = self.amplitude * torch.sin( x + self.add_param)\n",
    "        return out\n",
    "    \n",
    "    def set_layer_params(self, amp_value,  mul_value, add_value):\n",
    "\n",
    "        with torch.no_grad():  # Disable gradient tracking\n",
    "            self.amplitude.copy_(torch.tensor([amp_value]))\n",
    "            self.add_param.copy_(torch.tensor([add_value]))\n",
    "            #self.mul_param.copy_(torch.tensor([mul_value]))\n",
    "\n",
    "class CustomSinNetwork(nn.Module):\n",
    "    def __init__(self, L, e=0.001):\n",
    "        super(CustomSinNetwork, self).__init__()\n",
    "        # Create L instances of CustomSinLayer\n",
    "        self.layers = nn.ModuleList([CustomSinLayer(e) for _ in range(L)])\n",
    "    \n",
    "    def forward(self, x):\n",
    "        # Pass the input through each layer sequentially\n",
    "        for layer in self.layers:\n",
    "            x = layer(x)\n",
    "        return x\n",
    "\n",
    "class SinAndLinearLayer(nn.Module):\n",
    "    def __init__(self, input_dim, output_dim):\n",
    "        super(SinAndLinearLayer, self).__init__()\n",
    "        # Initialize the parameters\n",
    "        self.coeff = nn.Parameter(torch.randn(input_dim,output_dim))\n",
    "        \n",
    "        \n",
    "    def forward(self, x):\n",
    "        # Apply the parameters to the input and then the sin function\n",
    "        #f = self.mul_param  #**2 + self.e\n",
    "        #print(x.shape)\n",
    "        out = torch.matmul(torch.sin(x),self.coeff)\n",
    "        return out\n",
    "\n",
    "    \n",
    "    \n",
    "\n",
    "def plot_layer_output(t, output,connect=True):\n",
    "    \"\"\"\n",
    "    Plots the output of the custom layer.\n",
    "    \n",
    "    Args:\n",
    "    - t (torch.Tensor): The x-axis values (input tensor).\n",
    "    - output (torch.Tensor): The y-axis values (output tensor from the custom layer).\n",
    "    \"\"\"\n",
    "    # Convert tensors to numpy arrays for plotting\n",
    "    t = t.detach().numpy()\n",
    "    output = output.detach().numpy()\n",
    "    \n",
    "    # Create the plot\n",
    "    plt.figure(figsize=(20, 6))\n",
    "    if connect:\n",
    "        plt.plot(t, output, label='Layer Output')\n",
    "    else:\n",
    "        plt.scatter(t, output, label='Layer Output')\n",
    "    plt.xlabel('t')\n",
    "    plt.ylabel('Output')\n",
    "    plt.title('Custom Layer Output vs t')\n",
    "    plt.legend()\n",
    "    plt.grid(True)\n",
    "    plt.show()\n",
    "\n"
   ]
  },
  {
   "cell_type": "code",
   "execution_count": 2,
   "id": "1eaa66fb",
   "metadata": {},
   "outputs": [
    {
     "ename": "NameError",
     "evalue": "name 't' is not defined",
     "output_type": "error",
     "traceback": [
      "\u001b[0;31m---------------------------------------------------------------------------\u001b[0m",
      "\u001b[0;31mNameError\u001b[0m                                 Traceback (most recent call last)",
      "Input \u001b[0;32mIn [2]\u001b[0m, in \u001b[0;36m<cell line: 1>\u001b[0;34m()\u001b[0m\n\u001b[0;32m----> 1\u001b[0m plot_layer_output(\u001b[43mt\u001b[49m, output,connect\u001b[38;5;241m=\u001b[39m\u001b[38;5;28;01mTrue\u001b[39;00m)\n",
      "\u001b[0;31mNameError\u001b[0m: name 't' is not defined"
     ]
    }
   ],
   "source": [
    "plot_layer_output(t, output,connect=True)"
   ]
  },
  {
   "cell_type": "code",
   "execution_count": 7,
   "id": "8a64b6d3",
   "metadata": {},
   "outputs": [],
   "source": [
    "class testN(nn.Module):\n",
    "    def __init__(self,layer_dims):\n",
    "        super(testN, self).__init__()\n",
    "        self.layers = nn.ModuleList([SinAndLinearLayer(i[0],i[1]) for i in layer_dims ])\n",
    "    \n",
    "    def forward(self, x):\n",
    "        for layer in self.layers:\n",
    "            x = layer(x)\n",
    "        return x"
   ]
  },
  {
   "cell_type": "code",
   "execution_count": null,
   "id": "b1ea1850",
   "metadata": {},
   "outputs": [],
   "source": [
    "network_config = [[1,10],[10,20],[20,1]]\n",
    "n = testN(network_config)\n",
    "t = torch.from_numpy(np.arange(500)).unsqueeze(1)\n",
    "n"
   ]
  },
  {
   "cell_type": "code",
   "execution_count": null,
   "id": "9ee9e3df",
   "metadata": {},
   "outputs": [],
   "source": [
    "# Example usage:\n",
    "L = 5  # Number of layers\n",
    "model = CustomSinNetwork(L)\n",
    "\n",
    "# Forward pass\n",
    "x = torch.from_numpy(np.arange(100))\n",
    "output = model(x)\n",
    "output"
   ]
  },
  {
   "cell_type": "code",
   "execution_count": null,
   "id": "803120af",
   "metadata": {},
   "outputs": [],
   "source": [
    "t = torch.from_numpy(np.linspace(5,7.5,500))\n",
    "layer = CustomSinLayer()\n",
    "layer.set_layer_params(20,0.01,0.0)\n",
    "output = layer(t)\n",
    "plot_layer_output(t, output)"
   ]
  },
  {
   "cell_type": "code",
   "execution_count": null,
   "id": "a97569e5",
   "metadata": {},
   "outputs": [],
   "source": [
    "layer2 = CustomSinLayer()\n",
    "layer2.set_layer_params(2,0.01,2.5)\n",
    "out2 = layer2(output)\n",
    "\n",
    "plot_layer_output(output,out2, False)\n",
    "plot_layer_output(t, out2)"
   ]
  },
  {
   "cell_type": "code",
   "execution_count": null,
   "id": "a8e0dfae",
   "metadata": {},
   "outputs": [],
   "source": [
    "layer3 = CustomSinLayer()\n",
    "layer3.set_layer_params(10,0.01,0.3)\n",
    "out3 = layer3(out2)\n",
    "plot_layer_output(out2,out3, False)\n",
    "plot_layer_output(t, out3)\n"
   ]
  },
  {
   "cell_type": "code",
   "execution_count": 3,
   "id": "e41b6570",
   "metadata": {},
   "outputs": [
    {
     "ename": "NameError",
     "evalue": "name 'out3' is not defined",
     "output_type": "error",
     "traceback": [
      "\u001b[0;31m---------------------------------------------------------------------------\u001b[0m",
      "\u001b[0;31mNameError\u001b[0m                                 Traceback (most recent call last)",
      "Input \u001b[0;32mIn [3]\u001b[0m, in \u001b[0;36m<cell line: 3>\u001b[0;34m()\u001b[0m\n\u001b[1;32m      1\u001b[0m layer4 \u001b[38;5;241m=\u001b[39m CustomSinLayer()\n\u001b[1;32m      2\u001b[0m layer4\u001b[38;5;241m.\u001b[39mset_layer_params(\u001b[38;5;241m20\u001b[39m,\u001b[38;5;241m0.01\u001b[39m,\u001b[38;5;241m0.0\u001b[39m)\n\u001b[0;32m----> 3\u001b[0m out4 \u001b[38;5;241m=\u001b[39m layer4(\u001b[43mout3\u001b[49m)\n\u001b[1;32m      4\u001b[0m plot_layer_output(t, out4)\n\u001b[1;32m      5\u001b[0m plot_layer_output(out3,out4, \u001b[38;5;28;01mFalse\u001b[39;00m)\n",
      "\u001b[0;31mNameError\u001b[0m: name 'out3' is not defined"
     ]
    }
   ],
   "source": [
    "layer4 = CustomSinLayer()\n",
    "layer4.set_layer_params(20,0.01,0.0)\n",
    "out4 = layer4(out3)\n",
    "plot_layer_output(t, out4)\n",
    "plot_layer_output(out3,out4, False)"
   ]
  },
  {
   "cell_type": "code",
   "execution_count": 4,
   "id": "89e81dde",
   "metadata": {},
   "outputs": [
    {
     "ename": "NameError",
     "evalue": "name 't' is not defined",
     "output_type": "error",
     "traceback": [
      "\u001b[0;31m---------------------------------------------------------------------------\u001b[0m",
      "\u001b[0;31mNameError\u001b[0m                                 Traceback (most recent call last)",
      "Input \u001b[0;32mIn [4]\u001b[0m, in \u001b[0;36m<cell line: 1>\u001b[0;34m()\u001b[0m\n\u001b[0;32m----> 1\u001b[0m \u001b[43mt\u001b[49m, out2, output\n",
      "\u001b[0;31mNameError\u001b[0m: name 't' is not defined"
     ]
    }
   ],
   "source": [
    "t, out2, output"
   ]
  },
  {
   "cell_type": "code",
   "execution_count": 5,
   "id": "3e61cb1d",
   "metadata": {},
   "outputs": [
    {
     "ename": "NameError",
     "evalue": "name 't' is not defined",
     "output_type": "error",
     "traceback": [
      "\u001b[0;31m---------------------------------------------------------------------------\u001b[0m",
      "\u001b[0;31mNameError\u001b[0m                                 Traceback (most recent call last)",
      "Input \u001b[0;32mIn [5]\u001b[0m, in \u001b[0;36m<cell line: 1>\u001b[0;34m()\u001b[0m\n\u001b[0;32m----> 1\u001b[0m t_big \u001b[38;5;241m=\u001b[39m \u001b[43mt\u001b[49m\u001b[38;5;241m.\u001b[39munsqueeze(\u001b[38;5;241m1\u001b[39m) \u001b[38;5;241m-\u001b[39m t\u001b[38;5;241m.\u001b[39munsqueeze(\u001b[38;5;241m1\u001b[39m)\u001b[38;5;241m.\u001b[39mT\n\u001b[1;32m      2\u001b[0m o_big \u001b[38;5;241m=\u001b[39m output\u001b[38;5;241m.\u001b[39munsqueeze(\u001b[38;5;241m1\u001b[39m) \u001b[38;5;241m-\u001b[39m output\u001b[38;5;241m.\u001b[39munsqueeze(\u001b[38;5;241m1\u001b[39m)\u001b[38;5;241m.\u001b[39mT\n\u001b[1;32m      3\u001b[0m o2_big \u001b[38;5;241m=\u001b[39m out2\u001b[38;5;241m.\u001b[39munsqueeze(\u001b[38;5;241m1\u001b[39m) \u001b[38;5;241m-\u001b[39m out2\u001b[38;5;241m.\u001b[39munsqueeze(\u001b[38;5;241m1\u001b[39m)\u001b[38;5;241m.\u001b[39mT\n",
      "\u001b[0;31mNameError\u001b[0m: name 't' is not defined"
     ]
    }
   ],
   "source": [
    "t_big = t.unsqueeze(1) - t.unsqueeze(1).T\n",
    "o_big = output.unsqueeze(1) - output.unsqueeze(1).T\n",
    "o2_big = out2.unsqueeze(1) - out2.unsqueeze(1).T"
   ]
  },
  {
   "cell_type": "code",
   "execution_count": 6,
   "id": "8c620928",
   "metadata": {},
   "outputs": [
    {
     "ename": "NameError",
     "evalue": "name 't_big' is not defined",
     "output_type": "error",
     "traceback": [
      "\u001b[0;31m---------------------------------------------------------------------------\u001b[0m",
      "\u001b[0;31mNameError\u001b[0m                                 Traceback (most recent call last)",
      "Input \u001b[0;32mIn [6]\u001b[0m, in \u001b[0;36m<cell line: 1>\u001b[0;34m()\u001b[0m\n\u001b[0;32m----> 1\u001b[0m torch\u001b[38;5;241m.\u001b[39mmean(\u001b[43mt_big\u001b[49m \u001b[38;5;241m*\u001b[39m (o_big \u001b[38;5;241m-\u001b[39m o2_big))\n",
      "\u001b[0;31mNameError\u001b[0m: name 't_big' is not defined"
     ]
    }
   ],
   "source": [
    "torch.mean(t_big * (o_big - o2_big))"
   ]
  },
  {
   "cell_type": "code",
   "execution_count": 7,
   "id": "b87b0dd3",
   "metadata": {},
   "outputs": [
    {
     "ename": "NameError",
     "evalue": "name 'layer' is not defined",
     "output_type": "error",
     "traceback": [
      "\u001b[0;31m---------------------------------------------------------------------------\u001b[0m",
      "\u001b[0;31mNameError\u001b[0m                                 Traceback (most recent call last)",
      "Input \u001b[0;32mIn [7]\u001b[0m, in \u001b[0;36m<cell line: 3>\u001b[0;34m()\u001b[0m\n\u001b[1;32m      2\u001b[0m res \u001b[38;5;241m=\u001b[39m []\n\u001b[1;32m      3\u001b[0m \u001b[38;5;28;01mfor\u001b[39;00m i \u001b[38;5;129;01min\u001b[39;00m vals:\n\u001b[0;32m----> 4\u001b[0m     \u001b[43mlayer\u001b[49m\u001b[38;5;241m.\u001b[39mset_layer_params(\u001b[38;5;241m1\u001b[39m,i,\u001b[38;5;241m0.1\u001b[39m)\n\u001b[1;32m      5\u001b[0m     output \u001b[38;5;241m=\u001b[39m layer(t)\n\u001b[1;32m      6\u001b[0m     cos_sim \u001b[38;5;241m=\u001b[39m  F\u001b[38;5;241m.\u001b[39mcosine_similarity(output, out2, dim\u001b[38;5;241m=\u001b[39m\u001b[38;5;241m0\u001b[39m)\n",
      "\u001b[0;31mNameError\u001b[0m: name 'layer' is not defined"
     ]
    }
   ],
   "source": [
    "vals = [(i/100) + 1.5 for i in range(300)]\n",
    "res = []\n",
    "for i in vals:\n",
    "    layer.set_layer_params(1,i,0.1)\n",
    "    output = layer(t)\n",
    "    cos_sim =  F.cosine_similarity(output, out2, dim=0)\n",
    "    res.append(cos_sim)"
   ]
  },
  {
   "cell_type": "code",
   "execution_count": 490,
   "id": "910aeef6",
   "metadata": {},
   "outputs": [
    {
     "data": {
      "image/png": "[encoded data removed]",
      "text/plain": [
       "<Figure size 1440x432 with 1 Axes>"
      ]
     },
     "metadata": {
      "needs_background": "light"
     },
     "output_type": "display_data"
    }
   ],
   "source": [
    "plot_layer_output(torch.tensor(vals),torch.tensor(res))"
   ]
  },
  {
   "cell_type": "code",
   "execution_count": 8,
   "id": "0170dbd2",
   "metadata": {},
   "outputs": [
    {
     "data": {
      "image/png": "[encoded data removed]",
      "text/plain": [
       "<Figure size 432x288 with 1 Axes>"
      ]
     },
     "metadata": {
      "needs_background": "light"
     },
     "output_type": "display_data"
    }
   ],
   "source": [
    "import numpy as np\n",
    "import matplotlib.pyplot as plt\n",
    "### put this in front of the sin function for the t coefficient, only positive frequencies, never exactly 0 because\n",
    "### of e, same for amplitude i think.  the phase should stay in a range, but i may let that just be free, since there\n",
    "### are infinite correct \n",
    "def square_activation(x,e):\n",
    "    return (x**2) + e\n",
    "\n",
    "# Generating values for x\n",
    "x = np.linspace(-10, 10, 400)\n",
    "# Applying the custom activation function\n",
    "y = square_activation(x,e=0.001)\n",
    "\n",
    "# Plotting the function\n",
    "plt.plot(x, y, label=\"Custom Activation Function\")\n",
    "plt.title(\"Custom Activation Function\")\n",
    "plt.xlabel(\"x\")\n",
    "plt.ylabel(\"f(x)\")\n",
    "plt.grid(True)\n",
    "plt.legend()\n",
    "plt.show()"
   ]
  },
  {
   "cell_type": "code",
   "execution_count": 9,
   "id": "753b7b2f",
   "metadata": {},
   "outputs": [
    {
     "data": {
      "text/plain": [
       "array([1.00001000e+02, 9.90010063e+01, 9.80060377e+01, 9.70160941e+01,\n",
       "       9.60311757e+01, 9.50512823e+01, 9.40764141e+01, 9.31065709e+01,\n",
       "       9.21417529e+01, 9.11819599e+01, 9.02271920e+01, 8.92774493e+01,\n",
       "       8.83327316e+01, 8.73930390e+01, 8.64583715e+01, 8.55287291e+01,\n",
       "       8.46041118e+01, 8.36845196e+01, 8.27699525e+01, 8.18604104e+01,\n",
       "       8.09558935e+01, 8.00564017e+01, 7.91619349e+01, 7.82724933e+01,\n",
       "       7.73880767e+01, 7.65086853e+01, 7.56343189e+01, 7.47649776e+01,\n",
       "       7.39006614e+01, 7.30413703e+01, 7.21871044e+01, 7.13378635e+01,\n",
       "       7.04936477e+01, 6.96544570e+01, 6.88202913e+01, 6.79911508e+01,\n",
       "       6.71670354e+01, 6.63479451e+01, 6.55338798e+01, 6.47248397e+01,\n",
       "       6.39208246e+01, 6.31218347e+01, 6.23278698e+01, 6.15389300e+01,\n",
       "       6.07550154e+01, 5.99761258e+01, 5.92022613e+01, 5.84334219e+01,\n",
       "       5.76696076e+01, 5.69108184e+01, 5.61570543e+01, 5.54083153e+01,\n",
       "       5.46646014e+01, 5.39259125e+01, 5.31922488e+01, 5.24636102e+01,\n",
       "       5.17399966e+01, 5.10214082e+01, 5.03078448e+01, 4.95993065e+01,\n",
       "       4.88957934e+01, 4.81973053e+01, 4.75038423e+01, 4.68154044e+01,\n",
       "       4.61319916e+01, 4.54536039e+01, 4.47802413e+01, 4.41119038e+01,\n",
       "       4.34485914e+01, 4.27903041e+01, 4.21370419e+01, 4.14888047e+01,\n",
       "       4.08455927e+01, 4.02074057e+01, 3.95742439e+01, 3.89461071e+01,\n",
       "       3.83229955e+01, 3.77049089e+01, 3.70918474e+01, 3.64838110e+01,\n",
       "       3.58807998e+01, 3.52828136e+01, 3.46898525e+01, 3.41019165e+01,\n",
       "       3.35190055e+01, 3.29411197e+01, 3.23682590e+01, 3.18004234e+01,\n",
       "       3.12376128e+01, 3.06798274e+01, 3.01270670e+01, 2.95793318e+01,\n",
       "       2.90366216e+01, 2.84989366e+01, 2.79662766e+01, 2.74386417e+01,\n",
       "       2.69160319e+01, 2.63984473e+01, 2.58858877e+01, 2.53783532e+01,\n",
       "       2.48758438e+01, 2.43783594e+01, 2.38859002e+01, 2.33984661e+01,\n",
       "       2.29160571e+01, 2.24386731e+01, 2.19663143e+01, 2.14989805e+01,\n",
       "       2.10366719e+01, 2.05793883e+01, 2.01271299e+01, 1.96798965e+01,\n",
       "       1.92376882e+01, 1.88005050e+01, 1.83683469e+01, 1.79412139e+01,\n",
       "       1.75191060e+01, 1.71020232e+01, 1.66899655e+01, 1.62829329e+01,\n",
       "       1.58809254e+01, 1.54839429e+01, 1.50919856e+01, 1.47050534e+01,\n",
       "       1.43231462e+01, 1.39462642e+01, 1.35744072e+01, 1.32075753e+01,\n",
       "       1.28457686e+01, 1.24889869e+01, 1.21372303e+01, 1.17904988e+01,\n",
       "       1.14487924e+01, 1.11121111e+01, 1.07804549e+01, 1.04538238e+01,\n",
       "       1.01322178e+01, 9.81563684e+00, 9.50408101e+00, 9.19755027e+00,\n",
       "       8.89604463e+00, 8.59956408e+00, 8.30810862e+00, 8.02167826e+00,\n",
       "       7.74027299e+00, 7.46389282e+00, 7.19253774e+00, 6.92620776e+00,\n",
       "       6.66490286e+00, 6.40862307e+00, 6.15736836e+00, 5.91113876e+00,\n",
       "       5.66993424e+00, 5.43375482e+00, 5.20260049e+00, 4.97647126e+00,\n",
       "       4.75536712e+00, 4.53928808e+00, 4.32823413e+00, 4.12220527e+00,\n",
       "       3.92120151e+00, 3.72522284e+00, 3.53426926e+00, 3.34834078e+00,\n",
       "       3.16743740e+00, 2.99155910e+00, 2.82070591e+00, 2.65487780e+00,\n",
       "       2.49407479e+00, 2.33829688e+00, 2.18754405e+00, 2.04181633e+00,\n",
       "       1.90111369e+00, 1.76543615e+00, 1.63478371e+00, 1.50915636e+00,\n",
       "       1.38855410e+00, 1.27297693e+00, 1.16242487e+00, 1.05689789e+00,\n",
       "       9.56396009e-01, 8.60919222e-01, 7.70467528e-01, 6.85040929e-01,\n",
       "       6.04639424e-01, 5.29263013e-01, 4.58911697e-01, 3.93585474e-01,\n",
       "       3.33284345e-01, 2.78008310e-01, 2.27757370e-01, 1.82531523e-01,\n",
       "       1.42330771e-01, 1.07155112e-01, 7.70045477e-02, 5.18790774e-02,\n",
       "       3.17787011e-02, 1.67034189e-02, 6.65323082e-03, 1.62813676e-03,\n",
       "       1.62813676e-03, 6.65323082e-03, 1.67034189e-02, 3.17787011e-02,\n",
       "       5.18790774e-02, 7.70045477e-02, 1.07155112e-01, 1.42330771e-01,\n",
       "       1.82531523e-01, 2.27757370e-01, 2.78008310e-01, 3.33284345e-01,\n",
       "       3.93585474e-01, 4.58911697e-01, 5.29263013e-01, 6.04639424e-01,\n",
       "       6.85040929e-01, 7.70467528e-01, 8.60919222e-01, 9.56396009e-01,\n",
       "       1.05689789e+00, 1.16242487e+00, 1.27297693e+00, 1.38855410e+00,\n",
       "       1.50915636e+00, 1.63478371e+00, 1.76543615e+00, 1.90111369e+00,\n",
       "       2.04181633e+00, 2.18754405e+00, 2.33829688e+00, 2.49407479e+00,\n",
       "       2.65487780e+00, 2.82070591e+00, 2.99155910e+00, 3.16743740e+00,\n",
       "       3.34834078e+00, 3.53426926e+00, 3.72522284e+00, 3.92120151e+00,\n",
       "       4.12220527e+00, 4.32823413e+00, 4.53928808e+00, 4.75536712e+00,\n",
       "       4.97647126e+00, 5.20260049e+00, 5.43375482e+00, 5.66993424e+00,\n",
       "       5.91113876e+00, 6.15736836e+00, 6.40862307e+00, 6.66490286e+00,\n",
       "       6.92620776e+00, 7.19253774e+00, 7.46389282e+00, 7.74027299e+00,\n",
       "       8.02167826e+00, 8.30810862e+00, 8.59956408e+00, 8.89604463e+00,\n",
       "       9.19755027e+00, 9.50408101e+00, 9.81563684e+00, 1.01322178e+01,\n",
       "       1.04538238e+01, 1.07804549e+01, 1.11121111e+01, 1.14487924e+01,\n",
       "       1.17904988e+01, 1.21372303e+01, 1.24889869e+01, 1.28457686e+01,\n",
       "       1.32075753e+01, 1.35744072e+01, 1.39462642e+01, 1.43231462e+01,\n",
       "       1.47050534e+01, 1.50919856e+01, 1.54839429e+01, 1.58809254e+01,\n",
       "       1.62829329e+01, 1.66899655e+01, 1.71020232e+01, 1.75191060e+01,\n",
       "       1.79412139e+01, 1.83683469e+01, 1.88005050e+01, 1.92376882e+01,\n",
       "       1.96798965e+01, 2.01271299e+01, 2.05793883e+01, 2.10366719e+01,\n",
       "       2.14989805e+01, 2.19663143e+01, 2.24386731e+01, 2.29160571e+01,\n",
       "       2.33984661e+01, 2.38859002e+01, 2.43783594e+01, 2.48758438e+01,\n",
       "       2.53783532e+01, 2.58858877e+01, 2.63984473e+01, 2.69160319e+01,\n",
       "       2.74386417e+01, 2.79662766e+01, 2.84989366e+01, 2.90366216e+01,\n",
       "       2.95793318e+01, 3.01270670e+01, 3.06798274e+01, 3.12376128e+01,\n",
       "       3.18004234e+01, 3.23682590e+01, 3.29411197e+01, 3.35190055e+01,\n",
       "       3.41019165e+01, 3.46898525e+01, 3.52828136e+01, 3.58807998e+01,\n",
       "       3.64838110e+01, 3.70918474e+01, 3.77049089e+01, 3.83229955e+01,\n",
       "       3.89461071e+01, 3.95742439e+01, 4.02074057e+01, 4.08455927e+01,\n",
       "       4.14888047e+01, 4.21370419e+01, 4.27903041e+01, 4.34485914e+01,\n",
       "       4.41119038e+01, 4.47802413e+01, 4.54536039e+01, 4.61319916e+01,\n",
       "       4.68154044e+01, 4.75038423e+01, 4.81973053e+01, 4.88957934e+01,\n",
       "       4.95993065e+01, 5.03078448e+01, 5.10214082e+01, 5.17399966e+01,\n",
       "       5.24636102e+01, 5.31922488e+01, 5.39259125e+01, 5.46646014e+01,\n",
       "       5.54083153e+01, 5.61570543e+01, 5.69108184e+01, 5.76696076e+01,\n",
       "       5.84334219e+01, 5.92022613e+01, 5.99761258e+01, 6.07550154e+01,\n",
       "       6.15389300e+01, 6.23278698e+01, 6.31218347e+01, 6.39208246e+01,\n",
       "       6.47248397e+01, 6.55338798e+01, 6.63479451e+01, 6.71670354e+01,\n",
       "       6.79911508e+01, 6.88202913e+01, 6.96544570e+01, 7.04936477e+01,\n",
       "       7.13378635e+01, 7.21871044e+01, 7.30413703e+01, 7.39006614e+01,\n",
       "       7.47649776e+01, 7.56343189e+01, 7.65086853e+01, 7.73880767e+01,\n",
       "       7.82724933e+01, 7.91619349e+01, 8.00564017e+01, 8.09558935e+01,\n",
       "       8.18604104e+01, 8.27699525e+01, 8.36845196e+01, 8.46041118e+01,\n",
       "       8.55287291e+01, 8.64583715e+01, 8.73930390e+01, 8.83327316e+01,\n",
       "       8.92774493e+01, 9.02271920e+01, 9.11819599e+01, 9.21417529e+01,\n",
       "       9.31065709e+01, 9.40764141e+01, 9.50512823e+01, 9.60311757e+01,\n",
       "       9.70160941e+01, 9.80060377e+01, 9.90010063e+01, 1.00001000e+02])"
      ]
     },
     "execution_count": 9,
     "metadata": {},
     "output_type": "execute_result"
    }
   ],
   "source": [
    "y"
   ]
  },
  {
   "cell_type": "code",
   "execution_count": 2,
   "id": "09dbad09",
   "metadata": {},
   "outputs": [],
   "source": [
    "\n",
    "from torch.utils.data import Dataset, DataLoader, Sampler\n",
    "class WaveformDataset(Dataset):\n",
    "    def __init__(self, wav_data, t_input):\n",
    "        self.wav_data = wav_data\n",
    "        self.time_steps = t_input\n",
    "        self.length = len(wav_data)\n",
    "\n",
    "    def __len__(self):\n",
    "        return self.length\n",
    "\n",
    "    def __getitem__(self, idx):\n",
    "        return self.wav_data[idx], self.time_steps[idx]\n",
    "\n",
    "class RandomBatchSampler(torch.utils.data.Sampler):\n",
    "    def __init__(self, data_source, batch_size):\n",
    "        self.data_source = data_source\n",
    "        self.batch_size = batch_size\n",
    "\n",
    "    def __iter__(self):\n",
    "        indices = torch.randperm(len(self.data_source)).tolist()\n",
    "        for i in range(0, len(indices), self.batch_size):\n",
    "            yield indices[i:i + self.batch_size]\n",
    "\n",
    "    def __len__(self):\n",
    "        return len(self.data_source) // self.batch_size\n",
    "\n",
    "class WaveformDatasetConsecutive(Dataset):\n",
    "    def __init__(self, wav_data,t_input):\n",
    "        self.wav_data = wav_data\n",
    "        self.time_steps = t_input\n",
    "        self.length = len(wav_data)\n",
    "\n",
    "    def __len__(self):\n",
    "        return self.length\n",
    "\n",
    "    def __getitem__(self, idx):\n",
    "        return self.wav_data[idx], self.time_steps[idx]\n",
    "\n",
    "class RandomBatchSamplerConsecutive(Sampler):\n",
    "    def __init__(self, data_source, batch_size):\n",
    "        self.data_source = data_source\n",
    "        self.batch_size = batch_size\n",
    "        self.num_batches = len(self.data_source) // self.batch_size\n",
    "\n",
    "    def __iter__(self):\n",
    "        # Create a list of starting indices for each batch\n",
    "        starting_indices = list(range(0, len(self.data_source) - self.batch_size + 1, self.batch_size))\n",
    "        # Shuffle the starting indices\n",
    "        np.random.shuffle(starting_indices)\n",
    "        # Yield batches of consecutive indices\n",
    "        for start_idx in starting_indices:\n",
    "            yield list(range(start_idx, start_idx + self.batch_size))\n",
    "\n",
    "    def __len__(self):\n",
    "        return self.num_batches\n",
    "\n",
    "# Example usage\n",
    "\n",
    "class PhaseAgreementLoss(nn.Module):\n",
    "    def __init__(self):\n",
    "        super(PhaseAgreementLoss, self).__init__()\n",
    "    \n",
    "    def forward(self, input, target):\n",
    "        product = input * target\n",
    "        loss = torch.sum(1- torch.sigmoid(product +2))\n",
    "        return loss\n",
    "   \n",
    "class ProximalDiffLoss(nn.Module):\n",
    "    def __init__(self):\n",
    "        super(ProximalDiffLoss, self).__init__()\n",
    "    \n",
    "    def forward(self, input, target):\n",
    "        \n",
    "        in_dif = input -input.T\n",
    "        t_dif = target - target.T\n",
    "        dif = in_dif - t_dif\n",
    "        square = dif **2\n",
    "        return torch.mean(square)\n",
    "    \n",
    "class SquareAreaLoss(nn.Module):\n",
    "    def __init__(self):\n",
    "        super(SquareAreaLoss, self).__init__()\n",
    "    \n",
    "    def forward(self, t, input, target):\n",
    "        \n",
    "        t_dif = t - t.T #no negative distances.\n",
    "        in_dif = input -input.T\n",
    "        t_dif = target - target.T\n",
    "        dif = in_dif - t_dif\n",
    "        areas = dif * t_dif\n",
    "        sqa = areas **2\n",
    "        return torch.mean(sqa)\n",
    "    \n",
    "    \n",
    "class ProximalCDLoss(nn.Module):\n",
    "    def __init__(self):\n",
    "        super(ProximalCDLoss, self).__init__()\n",
    "    \n",
    "    def forward(self, input, target):\n",
    "        \n",
    "        in_dif = input -input.T\n",
    "        t_dif = target - target.T\n",
    "        cd = 1 - F.cosine_similarity(in_dif, t_dif)\n",
    "        #square = cd **2\n",
    "        return torch.mean(cd)\n",
    "\n",
    "class BatchAreaDiffLoss(nn.Module):\n",
    "    def __init__(self):\n",
    "        super(BatchAreaDiffLoss, self).__init__()\n",
    "    \n",
    "    def forward(self, t, pred,target):\n",
    "        t = t - t.T\n",
    "        \n",
    "        pred = pred - pred.T\n",
    "        \n",
    "        target = target - target.T\n",
    "        loss = torch.abs(t * (target - pred))\n",
    "        loss = torch.mean(loss)\n",
    "        \n",
    "        return loss\n",
    "                         \n",
    "class BatchAreaCDLoss(nn.Module):\n",
    "    def __init__(self):\n",
    "        super(BatchAreaCDLoss, self).__init__()\n",
    "    \n",
    "    def forward(self, t, pred,target):\n",
    "        t = t - t.T\n",
    "        \n",
    "        pred = pred - pred.T\n",
    "        \n",
    "        target = target - target.T\n",
    "        pred = t*pred\n",
    "        pred = pred.flatten()\n",
    "        target = t*target\n",
    "        target = target.flatten()\n",
    "        loss = 1 - F.cosine_similarity(pred, target, dim=0)\n",
    "        \n",
    "        return loss"
   ]
  },
  {
   "cell_type": "code",
   "execution_count": 3,
   "id": "53bc12fb",
   "metadata": {},
   "outputs": [],
   "source": [
    "# Define a loss function and optimizer\n",
    "hyperparameters = {'learning_rate': 0.001\n",
    "                   , 'epochs': 1000\n",
    "                   ,'batch_size': 100}"
   ]
  },
  {
   "cell_type": "code",
   "execution_count": 4,
   "id": "df245329",
   "metadata": {},
   "outputs": [],
   "source": [
    "L = 3  # Number of layers\n",
    "data_t = torch.from_numpy(np.linspace(1,10,1000))\n",
    "data_gen_network = CustomSinNetwork(L)\n",
    "data_gen_network.eval()\n",
    "data = 6*torch.sin(3*data_t) +  2*torch.sin(12*data_t+3)  #+ 3*torch.sin(6*data_t+1.93) \n",
    "data = data.detach().numpy().astype(np.float64)\n"
   ]
  },
  {
   "cell_type": "code",
   "execution_count": 5,
   "id": "aea4af2c",
   "metadata": {},
   "outputs": [
    {
     "data": {
      "text/plain": [
       "[<matplotlib.lines.Line2D at 0x7fa45804dee0>]"
      ]
     },
     "execution_count": 5,
     "metadata": {},
     "output_type": "execute_result"
    },
    {
     "data": {
      "image/png": "[encoded data removed]",
      "text/plain": [
       "<Figure size 720x432 with 1 Axes>"
      ]
     },
     "metadata": {
      "needs_background": "light"
     },
     "output_type": "display_data"
    }
   ],
   "source": [
    "plt.figure(figsize=(10, 6))\n",
    "\n",
    "plt.plot(data_t, data, label='Layer Output')\n",
    "#plt.scatter(t, output, label='Layer Output')"
   ]
  },
  {
   "cell_type": "code",
   "execution_count": 398,
   "id": "434e4074",
   "metadata": {},
   "outputs": [
    {
     "data": {
      "text/plain": [
       "CustomSinNetwork(\n",
       "  (layers): ModuleList(\n",
       "    (0): CustomSinLayer()\n",
       "    (1): CustomSinLayer()\n",
       "    (2): CustomSinLayer()\n",
       "    (3): CustomSinLayer()\n",
       "    (4): CustomSinLayer()\n",
       "  )\n",
       ")"
      ]
     },
     "execution_count": 398,
     "metadata": {},
     "output_type": "execute_result"
    }
   ],
   "source": [
    "L = 5  # Number of layers\n",
    "network = CustomSinNetwork(L)\n",
    "network.train()"
   ]
  },
  {
   "cell_type": "code",
   "execution_count": 14,
   "id": "89202fa7",
   "metadata": {},
   "outputs": [
    {
     "data": {
      "text/plain": [
       "testN(\n",
       "  (layers): ModuleList(\n",
       "    (0): SinAndLinearLayer()\n",
       "    (1): SinAndLinearLayer()\n",
       "    (2): SinAndLinearLayer()\n",
       "    (3): SinAndLinearLayer()\n",
       "    (4): SinAndLinearLayer()\n",
       "    (5): SinAndLinearLayer()\n",
       "    (6): SinAndLinearLayer()\n",
       "  )\n",
       ")"
      ]
     },
     "execution_count": 14,
     "metadata": {},
     "output_type": "execute_result"
    }
   ],
   "source": [
    "network_config = [[1,5],[5,10],[10,20],[20,50],[50,100],[100,50],[50,1]]\n",
    "network = testN(network_config)\n",
    "network.train()"
   ]
  },
  {
   "cell_type": "code",
   "execution_count": 167,
   "id": "245b05c8",
   "metadata": {},
   "outputs": [],
   "source": [
    "# Create the dataloader with the custom random batch sampler\n",
    "dataset = WaveformDataset(data,data_t)\n",
    "batch_size = hyperparameters['batch_size']\n",
    "sampler = RandomBatchSampler(dataset, batch_size)\n",
    "dataloader = DataLoader(dataset, batch_sampler=sampler)\n"
   ]
  },
  {
   "cell_type": "code",
   "execution_count": 15,
   "id": "70b2b13a",
   "metadata": {},
   "outputs": [],
   "source": [
    "#consecutive t dataset, useful for proximal loss stuff\n",
    "dataset = WaveformDatasetConsecutive(data,data_t)\n",
    "batch_size = hyperparameters['batch_size']\n",
    "sampler = RandomBatchSamplerConsecutive(dataset, batch_size)\n",
    "dataloader = DataLoader(dataset, batch_sampler=sampler)  "
   ]
  },
  {
   "cell_type": "code",
   "execution_count": 16,
   "id": "beea9ad0",
   "metadata": {},
   "outputs": [
    {
     "name": "stdout",
     "output_type": "stream",
     "text": [
      "Epoch [0/1000], Loss: 100.1587\n",
      "Epoch [100/1000], Loss: 7.6826\n",
      "Epoch [200/1000], Loss: 12.0040\n",
      "Epoch [300/1000], Loss: 12.1867\n",
      "Epoch [400/1000], Loss: 8.0885\n",
      "Epoch [500/1000], Loss: 9.4586\n",
      "Epoch [600/1000], Loss: 9.0790\n",
      "Epoch [700/1000], Loss: 7.7791\n",
      "Epoch [800/1000], Loss: 9.9562\n",
      "Epoch [900/1000], Loss: 9.7493\n",
      "Training completed.\n"
     ]
    }
   ],
   "source": [
    "import torch\n",
    "import torch.nn as nn\n",
    "import torch.optim as optim\n",
    "from torch.utils.data import DataLoader\n",
    "\n",
    "# Define the loss function and optimizer\n",
    "loss_function =  PhaseAgreementLoss() \n",
    "mse_loss = nn.MSELoss() \n",
    "pcd_loss = ProximalCDLoss() #ProximalDiffLoss()\n",
    "pd_loss = ProximalDiffLoss()\n",
    "optimizer = optim.Adam(network.parameters(), lr=hyperparameters['learning_rate'])\n",
    "bad_loss =  BatchAreaDiffLoss() #BatchAreaCDLoss()\n",
    "sqa_loss = SquareAreaLoss()\n",
    "\n",
    "######gradients to store:\n",
    "store_grad = False\n",
    "if store_grad:\n",
    "    gradients = {}\n",
    "\n",
    "\n",
    "# Training loop\n",
    "for epoch in range(hyperparameters['epochs']):\n",
    "#for epoch in range(20_000):\n",
    "    network.train()  # Set the network to training mode\n",
    "    epoch_loss = 0.0\n",
    "\n",
    "    for batch in dataloader:\n",
    "        targets, inputs = batch\n",
    "        # Zero the gradients\n",
    "        optimizer.zero_grad()\n",
    "\n",
    "        # Forward pass\n",
    "        #outputs = network(inputs)\n",
    "        inputs = inputs.unsqueeze(1).float()\n",
    "        input_activation = torch.ones_like(inputs).float()\n",
    "        outputs = network(inputs)\n",
    "\n",
    "        # Compute the loss\n",
    "        loss = loss_function(outputs, targets.unsqueeze(1).float())\n",
    "        mse = mse_loss(outputs, targets.unsqueeze(1).float())\n",
    "        b_loss = bad_loss(inputs, outputs, targets.unsqueeze(1).float())\n",
    "        pd = pd_loss(outputs, targets.unsqueeze(1).float())\n",
    "        pcd = pcd_loss(outputs, targets.unsqueeze(1).float())\n",
    "        sqa = sqa_loss(inputs, outputs, targets.unsqueeze(1).float())\n",
    "        loss = pd #sqa #pd + b_loss #+ mse ##up mse.  hyper param, or maybe this moves? idk.  i bet this will be a bitch to train.\n",
    "        #loss = mse\n",
    "        #print(loss.dtype,outputs.dtype, targets.dtype)\n",
    "        # Backward pass and optimize\n",
    "        loss.backward()\n",
    "        \n",
    "        optimizer.step()\n",
    "        \n",
    "        #store gradients if you wanna\n",
    "        if store_grad:\n",
    "            for layer_name, layer in network.layers.named_children():\n",
    "                if layer_name not in gradients:\n",
    "                    gradients[layer_name] = {'a1': [], 'a2': [], 'c1': [], 'c2': []}\n",
    "\n",
    "                gradients[layer_name]['a1'].append(layer.a1.detach().cpu().numpy().flatten())\n",
    "                gradients[layer_name]['a2'].append(layer.a2.detach().cpu().numpy().flatten())\n",
    "                gradients[layer_name]['c1'].append(layer.c1.detach().cpu().numpy().flatten())\n",
    "                gradients[layer_name]['c2'].append(layer.c2.detach().cpu().numpy().flatten())\n",
    "\n",
    "        epoch_loss += loss.item()\n",
    "\n",
    "        #print(network.layers[0].c1.grad, network.layers[3].c1.grad)\n",
    "        # Accumulate the loss for this batch\n",
    "        epoch_loss += loss.item()\n",
    "\n",
    "    # Calculate and print the average loss for this epoch\n",
    "    avg_epoch_loss = epoch_loss / len(dataloader)\n",
    "    if epoch% 100 ==0:\n",
    "        print(f'Epoch [{epoch}/{hyperparameters[\"epochs\"]}], Loss: {avg_epoch_loss:.4f}')\n",
    "\n",
    "print(\"Training completed.\")\n"
   ]
  },
  {
   "cell_type": "code",
   "execution_count": 17,
   "id": "21e2968c",
   "metadata": {},
   "outputs": [
    {
     "name": "stderr",
     "output_type": "stream",
     "text": [
      "/var/folders/hq/zz_5zb251633yqqbh6076p782zzx8q/T/ipykernel_20581/3032659795.py:6: UserWarning: To copy construct from a tensor, it is recommended to use sourceTensor.clone().detach() or sourceTensor.clone().detach().requires_grad_(True), rather than torch.tensor(sourceTensor).\n",
      "  input_tensor = torch.tensor(input_list, dtype=torch.float32)\n"
     ]
    },
    {
     "data": {
      "image/png": "[encoded data removed]",
      "text/plain": [
       "<Figure size 864x432 with 1 Axes>"
      ]
     },
     "metadata": {
      "needs_background": "light"
     },
     "output_type": "display_data"
    }
   ],
   "source": [
    "#t = data_t\n",
    "network.eval()\n",
    "\n",
    "def run_inference_in_batches(network, input_list, batch_size=100):\n",
    "    # Convert the input list to a PyTorch tensor\n",
    "    input_tensor = torch.tensor(input_list, dtype=torch.float32)\n",
    "    \n",
    "    # List to collect the outputs\n",
    "    outputs = []\n",
    "    \n",
    "    # Process the input tensor in batches\n",
    "    for start in range(0, len(input_tensor), batch_size):\n",
    "        end = min(start + batch_size, len(input_tensor))\n",
    "        batch = input_tensor[start:end]\n",
    "        \n",
    "        # Pass the batch through the network\n",
    "        with torch.no_grad():  # No need to compute gradients during inference\n",
    "            batch_output = network(batch.unsqueeze(1))\n",
    "        \n",
    "        # Append the batch output to the outputs list\n",
    "        outputs.append(batch_output)\n",
    "    \n",
    "    # Concatenate all batch outputs into a single tensor\n",
    "    final_output = torch.cat(outputs, dim=0)\n",
    "    \n",
    "    return final_output\n",
    "\n",
    "o = run_inference_in_batches(network, data_t)\n",
    "\n",
    "plt.figure(figsize=(12, 6))\n",
    "plt.plot(o)\n",
    "plt.plot(data)\n",
    "plt.title('Waveform of the .wav file')\n",
    "plt.xlabel('Sample Index')\n",
    "plt.ylabel('Amplitude')\n",
    "plt.show()"
   ]
  },
  {
   "cell_type": "code",
   "execution_count": null,
   "id": "0d4201ef",
   "metadata": {},
   "outputs": [],
   "source": []
  }
 ],
 "metadata": {
  "kernelspec": {
   "display_name": "Python 3 (ipykernel)",
   "language": "python",
   "name": "python3"
  },
  "language_info": {
   "codemirror_mode": {
    "name": "ipython",
    "version": 3
   },
   "file_extension": ".py",
   "mimetype": "text/x-python",
   "name": "python",
   "nbconvert_exporter": "python",
   "pygments_lexer": "ipython3",
   "version": "3.9.12"
  }
 },
 "nbformat": 4,
 "nbformat_minor": 5
}
